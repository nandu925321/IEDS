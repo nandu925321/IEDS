{
 "cells": [
  {
   "cell_type": "markdown",
   "metadata": {},
   "source": [
    "# Python Workshop 1"
   ]
  },
  {
   "cell_type": "code",
   "execution_count": 7,
   "metadata": {},
   "outputs": [
    {
     "data": {
      "text/plain": [
       "'3.5.5'"
      ]
     },
     "execution_count": 7,
     "metadata": {},
     "output_type": "execute_result"
    }
   ],
   "source": [
    "import platform\n",
    "platform.python_version()\n"
   ]
  },
  {
   "cell_type": "code",
   "execution_count": 8,
   "metadata": {},
   "outputs": [
    {
     "data": {
      "text/plain": [
       "sys.version_info(major=3, minor=5, micro=5, releaselevel='final', serial=0)"
      ]
     },
     "execution_count": 8,
     "metadata": {},
     "output_type": "execute_result"
    }
   ],
   "source": [
    "# sourabh - python version\n",
    "import sys\n",
    "sys.version\n",
    "sys.version_info"
   ]
  },
  {
   "cell_type": "markdown",
   "metadata": {},
   "source": [
    "# Running jupyter from a folder\n",
    "<ol>1. Open Command prompt by typing cmd in the search bar</ol>\n",
    "<ol>2. Navigate to the disk by typing diskname: eg D: </ol>\n",
    "<ol>3. Change to folder by typing in cd folderpath eg cd practice </ol>\n",
    "<ol>4. Type in jupyter notebook to run the console </ol>\n"
   ]
  },
  {
   "cell_type": "code",
   "execution_count": 1,
   "metadata": {},
   "outputs": [
    {
     "name": "stdout",
     "output_type": "stream",
     "text": [
      "2\n",
      "4\n",
      "21\n"
     ]
    }
   ],
   "source": [
    "# Some basic python operations\n",
    "print(2)\n",
    "print(2+2)\n",
    "print(30-9)"
   ]
  },
  {
   "cell_type": "code",
   "execution_count": 10,
   "metadata": {},
   "outputs": [
    {
     "data": {
      "text/plain": [
       "625"
      ]
     },
     "execution_count": 10,
     "metadata": {},
     "output_type": "execute_result"
    }
   ],
   "source": [
    "56/7778\n",
    "5**4"
   ]
  },
  {
   "cell_type": "code",
   "execution_count": 18,
   "metadata": {},
   "outputs": [
    {
     "name": "stdout",
     "output_type": "stream",
     "text": [
      "10 mod 3 is  1\n",
      "9 floor 2 is  4\n",
      "True and True is True\n",
      "True and False is False\n",
      "True or False is True\n",
      "False or False is False\n",
      "3 is equal to 4 False\n"
     ]
    }
   ],
   "source": [
    "# sourabh - operations on variables\n",
    "# 1. Modulo to give the remainder\n",
    "print(\"10 mod 3 is \", 10 % 3)\n",
    "# 2. Floor division to give the quotient\n",
    "print(\"9 floor 2 is \", 9 // 2)\n",
    "# 3. And operator\n",
    "print(\"True and True is\", True and True)\n",
    "print(\"True and False is\", True and False)\n",
    "# 4. Or operator\n",
    "print(\"True or False is\", True or False)\n",
    "print(\"False or False is\", False or False)\n",
    "# 5. Checking for equality can also use <> not to be confused with =\n",
    "print(\"3 is equal to 4 is \", 3 == 4)\n",
    "# 6. similarly > for greater >= for greater than or equal to and < and <= for the less case\n",
    "\n",
    "# 7. For bitwise operators check this out : https://www.tutorialspoint.com/python/bitwise_operators_example.htm\n"
   ]
  },
  {
   "cell_type": "markdown",
   "metadata": {},
   "source": [
    "## Explore different data containers\n",
    "\n",
    "* List\n",
    "* Tuple\n",
    "* Dictionary\n",
    "* Set\n",
    "* ------> Strings\n",
    "* Numpy and Pandas\n"
   ]
  },
  {
   "cell_type": "code",
   "execution_count": 9,
   "metadata": {},
   "outputs": [
    {
     "data": {
      "text/plain": [
       "[1, 2, 3, 4, 5, 6]"
      ]
     },
     "execution_count": 9,
     "metadata": {},
     "output_type": "execute_result"
    }
   ],
   "source": [
    "[1,2,3]+[4,5,6]"
   ]
  },
  {
   "cell_type": "code",
   "execution_count": 15,
   "metadata": {},
   "outputs": [
    {
     "data": {
      "text/plain": [
       "[11, 1, 1, 1, 11, 1111, 123, 4, 5, 78]"
      ]
     },
     "execution_count": 15,
     "metadata": {},
     "output_type": "execute_result"
    }
   ],
   "source": [
    "L = [11,1,1,1,11,1111,123,4,5,78]\n",
    "#dir(L)\n",
    "L"
   ]
  },
  {
   "cell_type": "code",
   "execution_count": 17,
   "metadata": {},
   "outputs": [],
   "source": [
    "L.extend([4,5,6,7,8]) #= inplace operation"
   ]
  },
  {
   "cell_type": "code",
   "execution_count": 19,
   "metadata": {},
   "outputs": [],
   "source": [
    "L.append([4,5,6,7,8])"
   ]
  },
  {
   "cell_type": "code",
   "execution_count": 20,
   "metadata": {},
   "outputs": [
    {
     "data": {
      "text/plain": [
       "[11, 1, 1, 1, 11, 1111, 123, 4, 5, 78, 4, 5, 6, 7, 8, [4, 5, 6, 7, 8]]"
      ]
     },
     "execution_count": 20,
     "metadata": {},
     "output_type": "execute_result"
    }
   ],
   "source": [
    "L"
   ]
  },
  {
   "cell_type": "code",
   "execution_count": 21,
   "metadata": {},
   "outputs": [
    {
     "data": {
      "text/plain": [
       "1"
      ]
     },
     "execution_count": 21,
     "metadata": {},
     "output_type": "execute_result"
    }
   ],
   "source": [
    "L.pop(3)"
   ]
  },
  {
   "cell_type": "code",
   "execution_count": 22,
   "metadata": {},
   "outputs": [
    {
     "data": {
      "text/plain": [
       "[11, 1, 1, 11, 1111, 123, 4, 5, 78, 4, 5, 6, 7, 8, [4, 5, 6, 7, 8]]"
      ]
     },
     "execution_count": 22,
     "metadata": {},
     "output_type": "execute_result"
    }
   ],
   "source": [
    "L"
   ]
  },
  {
   "cell_type": "code",
   "execution_count": 25,
   "metadata": {},
   "outputs": [
    {
     "data": {
      "text/plain": [
       "[4, 5, 6, 7, 8]"
      ]
     },
     "execution_count": 25,
     "metadata": {},
     "output_type": "execute_result"
    }
   ],
   "source": [
    "L[-1]"
   ]
  },
  {
   "cell_type": "code",
   "execution_count": 26,
   "metadata": {},
   "outputs": [
    {
     "data": {
      "text/plain": [
       "8"
      ]
     },
     "execution_count": 26,
     "metadata": {},
     "output_type": "execute_result"
    }
   ],
   "source": [
    "L[-2]"
   ]
  },
  {
   "cell_type": "code",
   "execution_count": 32,
   "metadata": {},
   "outputs": [],
   "source": [
    "L= [9,8,56,-1]"
   ]
  },
  {
   "cell_type": "code",
   "execution_count": 30,
   "metadata": {},
   "outputs": [],
   "source": [
    "L.sort()"
   ]
  },
  {
   "cell_type": "code",
   "execution_count": 31,
   "metadata": {},
   "outputs": [
    {
     "data": {
      "text/plain": [
       "[-1, 8, 9, 56]"
      ]
     },
     "execution_count": 31,
     "metadata": {},
     "output_type": "execute_result"
    }
   ],
   "source": [
    "L"
   ]
  },
  {
   "cell_type": "code",
   "execution_count": 33,
   "metadata": {},
   "outputs": [
    {
     "data": {
      "text/plain": [
       "[-1, 8, 9, 56]"
      ]
     },
     "execution_count": 33,
     "metadata": {},
     "output_type": "execute_result"
    }
   ],
   "source": [
    "sorted(L)"
   ]
  },
  {
   "cell_type": "code",
   "execution_count": 34,
   "metadata": {},
   "outputs": [
    {
     "data": {
      "text/plain": [
       "[9, 8, 56, -1]"
      ]
     },
     "execution_count": 34,
     "metadata": {},
     "output_type": "execute_result"
    }
   ],
   "source": [
    "L"
   ]
  },
  {
   "cell_type": "code",
   "execution_count": 35,
   "metadata": {},
   "outputs": [],
   "source": [
    "L= [9,8,56,-1,45,5656,2354,234,456,7]"
   ]
  },
  {
   "cell_type": "code",
   "execution_count": 36,
   "metadata": {},
   "outputs": [],
   "source": [
    "del L[2:5]"
   ]
  },
  {
   "cell_type": "code",
   "execution_count": 37,
   "metadata": {},
   "outputs": [
    {
     "data": {
      "text/plain": [
       "[9, 8, 5656, 2354, 234, 456, 7]"
      ]
     },
     "execution_count": 37,
     "metadata": {},
     "output_type": "execute_result"
    }
   ],
   "source": [
    "L"
   ]
  },
  {
   "cell_type": "code",
   "execution_count": 41,
   "metadata": {},
   "outputs": [
    {
     "name": "stdout",
     "output_type": "stream",
     "text": [
      "[9, 8, 5656, 2354, 234, 456, 7]\n",
      "[9, 5656, 234, 7]\n",
      "[7, 456, 234, 2354, 5656, 8, 9]\n"
     ]
    }
   ],
   "source": [
    "print ( L)\n",
    "print(L[::2])\n",
    "print(L[::-1])\n",
    "L.append()"
   ]
  },
  {
   "cell_type": "code",
   "execution_count": null,
   "metadata": {},
   "outputs": [],
   "source": [
    "L = [1,2,4,6,4,6,73,2,32,2,3,4,7]"
   ]
  },
  {
   "cell_type": "code",
   "execution_count": 19,
   "metadata": {},
   "outputs": [
    {
     "name": "stdout",
     "output_type": "stream",
     "text": [
      "[1, 2, 3, 4, 5, 6]\n"
     ]
    }
   ],
   "source": [
    "\"\"\" Sourabh \n",
    "list inserts - inserts a given value at the given index. Has to shift the elements to the left and right of inserted index.\n",
    "Do not use this unless absolutely necessary\n",
    "\"\"\"\n",
    "A = [1,2,3,4,6]\n",
    "A.insert(4, 5)\n",
    "print(A)"
   ]
  },
  {
   "cell_type": "code",
   "execution_count": 22,
   "metadata": {},
   "outputs": [
    {
     "ename": "ValueError",
     "evalue": "list.remove(x): x not in list",
     "output_type": "error",
     "traceback": [
      "\u001b[1;31m---------------------------------------------------------------------------\u001b[0m",
      "\u001b[1;31mValueError\u001b[0m                                Traceback (most recent call last)",
      "\u001b[1;32m<ipython-input-22-0ff7fcdd4695>\u001b[0m in \u001b[0;36m<module>\u001b[1;34m()\u001b[0m\n\u001b[0;32m      3\u001b[0m  value at index if given or removes the last element by default\"\"\"\n\u001b[0;32m      4\u001b[0m \u001b[1;33m\u001b[0m\u001b[0m\n\u001b[1;32m----> 5\u001b[1;33m \u001b[0mA\u001b[0m\u001b[1;33m.\u001b[0m\u001b[0mremove\u001b[0m\u001b[1;33m(\u001b[0m\u001b[1;36m100\u001b[0m\u001b[1;33m)\u001b[0m\u001b[1;33m\u001b[0m\u001b[0m\n\u001b[0m",
      "\u001b[1;31mValueError\u001b[0m: list.remove(x): x not in list"
     ]
    }
   ],
   "source": [
    "\"\"\" Sourabh \n",
    "list pop and remove - remove function removes the value from the list if value is not found raises Value Error. Pop removes \n",
    " value at index if given or removes the last element by default\"\"\"\n",
    "\n",
    "A.remove(100)"
   ]
  },
  {
   "cell_type": "code",
   "execution_count": 26,
   "metadata": {},
   "outputs": [
    {
     "name": "stdout",
     "output_type": "stream",
     "text": [
      "Elapsed time using count is  2.296875\n",
      "Elapsed time using hash is  0.015625\n"
     ]
    }
   ],
   "source": [
    "\"\"\" Sourabh \n",
    "list count - returns the count of the element in the array. Do not use this if you want to keep a track of all elements \n",
    "use dict instead. see the example below for performance timing\"\"\"\n",
    "import random\n",
    "sample = random.sample(range(1, 50000), 10000 )\n",
    "using_count = dict()\n",
    "using_hash = dict()\n",
    "import time\n",
    "t = time.process_time()\n",
    "\n",
    "for ele in sample:\n",
    "    using_count[ele] = sample.count(ele)\n",
    "    \n",
    "elapsed_time = time.process_time() - t\n",
    "print (\"Elapsed time using count is \", elapsed_time)\n",
    "\n",
    "t = time.process_time()\n",
    "\n",
    "for ele in sample:\n",
    "    if ele not in using_hash:\n",
    "        using_hash[ele] = 0\n",
    "    using_hash[ele] += 1\n",
    "     \n",
    "elapsed_time = time.process_time() - t\n",
    "print (\"Elapsed time using hash is \", elapsed_time)\n"
   ]
  },
  {
   "cell_type": "code",
   "execution_count": 32,
   "metadata": {},
   "outputs": [
    {
     "name": "stdout",
     "output_type": "stream",
     "text": [
      "[1, 2, 3]\n",
      "Are X and Y the same reference ?  False\n",
      "Are X and Z the same reference ?  True\n"
     ]
    }
   ],
   "source": [
    "\"\"\"sourabh list - copy: copies the list to a new variable us this when you do not want the new object to point to the old one\n",
    "Not necessary for immutable objects but required for mutable objects.\n",
    "\"\"\"\n",
    "X = [1,2,3]\n",
    "Y = X.copy() # using copy\n",
    "Z = X # using assignment\n",
    "print(Y)\n",
    "print(\"Are X and Y the same reference ? \", id(X) == id(Y))\n",
    "print(\"Are X and Z the same reference ? \", id(X) == id(Z))"
   ]
  },
  {
   "cell_type": "code",
   "execution_count": 34,
   "metadata": {},
   "outputs": [
    {
     "name": "stdout",
     "output_type": "stream",
     "text": [
      "[787, 65, 43, 21, 55]\n",
      "[787, 65, 43, 21, 55]\n"
     ]
    }
   ],
   "source": [
    "\"\"\" sourabh list comprehensions - a concise way to create new lists or select from existing lists. See the example below\n",
    "\"\"\"\n",
    "# select all numbers greater than 10\n",
    "lc = [1,2,3,4,5,6,787,65,43,21,0,-9,55]\n",
    "temp = []\n",
    "for ele in lc:\n",
    "    if ele > 10:\n",
    "        temp.append(ele)\n",
    "print(temp)\n",
    "\n",
    "temp = []\n",
    "\n",
    "temp = [ele for ele in lc if ele > 10]\n",
    "\n",
    "print(temp)\n"
   ]
  },
  {
   "cell_type": "code",
   "execution_count": 41,
   "metadata": {},
   "outputs": [
    {
     "name": "stdout",
     "output_type": "stream",
     "text": [
      "(100, 100)\n",
      "Maximum element is  49993\n"
     ]
    }
   ],
   "source": [
    "\"\"\" Sourabh - navigating a 2D list. See the example below for a step wise approach to navigate a 2D list. Can be extended to\n",
    "ND list.\n",
    "\"\"\"\n",
    "# create our sample 2D list\n",
    "twod = [[x for x in random.sample(range(1, 50000), 100 )] for _ in range (100)] # sampling a 100 numbers from 1 - 50000 range\n",
    "# because we created the array we know that its 100 * 100 but what if we dont know it before hand\n",
    "# use numpy instead as python list doesnt have a method to return the dimensions\n",
    "from numpy import array\n",
    "np_array = array(twod)\n",
    "shape = np_array.shape\n",
    "print(shape)\n",
    "# this gives the shape\n",
    "rows, cols = shape\n",
    "#start navigating and do any operations - eg: print max element\n",
    "max_ele = -1\n",
    "for r in range (rows):\n",
    "    for c in range(cols):\n",
    "        if twod[r][c] > max_ele:\n",
    "            max_ele = twod[r][c]\n",
    "print(\"Maximum element is \", max_ele)\n",
    "        "
   ]
  },
  {
   "cell_type": "code",
   "execution_count": 43,
   "metadata": {},
   "outputs": [],
   "source": [
    "T = (1,2,3)"
   ]
  },
  {
   "cell_type": "code",
   "execution_count": 47,
   "metadata": {},
   "outputs": [],
   "source": [
    "a,b,c = T"
   ]
  },
  {
   "cell_type": "code",
   "execution_count": 48,
   "metadata": {},
   "outputs": [
    {
     "data": {
      "text/plain": [
       "3"
      ]
     },
     "execution_count": 48,
     "metadata": {},
     "output_type": "execute_result"
    }
   ],
   "source": [
    "c"
   ]
  },
  {
   "cell_type": "code",
   "execution_count": 55,
   "metadata": {},
   "outputs": [],
   "source": [
    "def FibGen(n):\n",
    "    \"\"\"This function prints the first\n",
    "       n elements of the Fib series. \n",
    "     \"\"\"\n",
    "     \n",
    "    L= [0]\n",
    "    a= 0 \n",
    "    b =1\n",
    "    for i in list(range(n)):\n",
    "        a,b = a+b,a\n",
    "        L.append(b)\n",
    "        print(L)"
   ]
  },
  {
   "cell_type": "code",
   "execution_count": 58,
   "metadata": {},
   "outputs": [
    {
     "data": {
      "text/plain": [
       "[0, 1, 2, 3, 4, 5, 6, 7, 8, 9]"
      ]
     },
     "execution_count": 58,
     "metadata": {},
     "output_type": "execute_result"
    }
   ],
   "source": [
    "list(range(10))"
   ]
  },
  {
   "cell_type": "code",
   "execution_count": 59,
   "metadata": {},
   "outputs": [
    {
     "data": {
      "text/plain": [
       "'Andy has a boy'"
      ]
     },
     "execution_count": 59,
     "metadata": {},
     "output_type": "execute_result"
    }
   ],
   "source": [
    "\"Andy has a boy\""
   ]
  },
  {
   "cell_type": "code",
   "execution_count": 60,
   "metadata": {},
   "outputs": [
    {
     "data": {
      "text/plain": [
       "'Andy has a boy'"
      ]
     },
     "execution_count": 60,
     "metadata": {},
     "output_type": "execute_result"
    }
   ],
   "source": [
    "'Andy has a boy'"
   ]
  },
  {
   "cell_type": "code",
   "execution_count": 62,
   "metadata": {},
   "outputs": [
    {
     "data": {
      "text/plain": [
       "'Andy has a boy. The boy\\'s \\nshirt is red. His name is \"Jack\" '"
      ]
     },
     "execution_count": 62,
     "metadata": {},
     "output_type": "execute_result"
    }
   ],
   "source": [
    "\"\"\"Andy has a boy. The boy's \n",
    "shirt is red. His name is \"Jack\" \"\"\""
   ]
  },
  {
   "cell_type": "code",
   "execution_count": 56,
   "metadata": {},
   "outputs": [
    {
     "name": "stdout",
     "output_type": "stream",
     "text": [
      "[0, 0]\n",
      "[0, 0, 1]\n",
      "[0, 0, 1, 1]\n",
      "[0, 0, 1, 1, 2]\n",
      "[0, 0, 1, 1, 2, 3]\n",
      "[0, 0, 1, 1, 2, 3, 5]\n",
      "[0, 0, 1, 1, 2, 3, 5, 8]\n",
      "[0, 0, 1, 1, 2, 3, 5, 8, 13]\n",
      "[0, 0, 1, 1, 2, 3, 5, 8, 13, 21]\n",
      "[0, 0, 1, 1, 2, 3, 5, 8, 13, 21, 34]\n",
      "[0, 0, 1, 1, 2, 3, 5, 8, 13, 21, 34, 55]\n",
      "[0, 0, 1, 1, 2, 3, 5, 8, 13, 21, 34, 55, 89]\n",
      "[0, 0, 1, 1, 2, 3, 5, 8, 13, 21, 34, 55, 89, 144]\n",
      "[0, 0, 1, 1, 2, 3, 5, 8, 13, 21, 34, 55, 89, 144, 233]\n",
      "[0, 0, 1, 1, 2, 3, 5, 8, 13, 21, 34, 55, 89, 144, 233, 377]\n",
      "[0, 0, 1, 1, 2, 3, 5, 8, 13, 21, 34, 55, 89, 144, 233, 377, 610]\n",
      "[0, 0, 1, 1, 2, 3, 5, 8, 13, 21, 34, 55, 89, 144, 233, 377, 610, 987]\n",
      "[0, 0, 1, 1, 2, 3, 5, 8, 13, 21, 34, 55, 89, 144, 233, 377, 610, 987, 1597]\n",
      "[0, 0, 1, 1, 2, 3, 5, 8, 13, 21, 34, 55, 89, 144, 233, 377, 610, 987, 1597, 2584]\n",
      "[0, 0, 1, 1, 2, 3, 5, 8, 13, 21, 34, 55, 89, 144, 233, 377, 610, 987, 1597, 2584, 4181]\n"
     ]
    }
   ],
   "source": [
    "FibGen(20)"
   ]
  },
  {
   "cell_type": "code",
   "execution_count": 74,
   "metadata": {},
   "outputs": [
    {
     "data": {
      "text/plain": [
       "[('A', [1, 2, 3, 4]), ('B', [6, 7, 8, 9, 0, -4])]"
      ]
     },
     "execution_count": 74,
     "metadata": {},
     "output_type": "execute_result"
    }
   ],
   "source": [
    "# Dictionaries\n",
    "D = {\"A\":[1,2,3,4] , \"B\":[6,7,8,9,0,-4]}\n",
    "list(D.keys())\n",
    "list(D.values())\n",
    "list(D.items())"
   ]
  },
  {
   "cell_type": "code",
   "execution_count": 70,
   "metadata": {},
   "outputs": [
    {
     "data": {
      "text/plain": [
       "{'A': [1, 2, 3, 4], 'B': [6, 7, 8, 9, 0, -4]}"
      ]
     },
     "execution_count": 70,
     "metadata": {},
     "output_type": "execute_result"
    }
   ],
   "source": [
    "D"
   ]
  },
  {
   "cell_type": "code",
   "execution_count": 75,
   "metadata": {},
   "outputs": [
    {
     "name": "stdout",
     "output_type": "stream",
     "text": [
      "['A', [1, 2, 3, 4]]\n",
      "['B', [6, 7, 8, 9, 0, -4]]\n"
     ]
    }
   ],
   "source": [
    "for k,_ in D.items():\n",
    "    print ([k])"
   ]
  },
  {
   "cell_type": "code",
   "execution_count": 55,
   "metadata": {},
   "outputs": [
    {
     "name": "stdout",
     "output_type": "stream",
     "text": [
      "{0: 4, 1: 5, 2: 6, 3: 10, 4: 3, 5: 2, 6: 5, 7: 6, 8: 3, 9: 6}\n",
      "element with max counts is  3\n",
      "element with max counts is  5\n"
     ]
    }
   ],
   "source": [
    "\"\"\" Sourabh - Filling up dictionaries\n",
    "\"\"\"\n",
    "counts = dict()\n",
    "rand = [random.randrange(10) for i in range(50)] # picking 50 numbers in the range 0 - 10 to make sure we have duplicates\n",
    "\n",
    "for ele in rand:\n",
    "    if ele not in counts:\n",
    "        counts[ele] = 0\n",
    "    counts[ele] += 1\n",
    "print(counts)\n",
    "\n",
    "# to picx element with max counts\n",
    "max_count = max(counts, key = counts.get)\n",
    "print(\"element with max counts is \", max_count)\n",
    "\n",
    "# to picx element with min counts\n",
    "min_count = min(counts, key = counts.get)\n",
    "print(\"element with max counts is \", min_count)"
   ]
  },
  {
   "cell_type": "code",
   "execution_count": 57,
   "metadata": {},
   "outputs": [],
   "source": [
    "A= set([1,2,3,4,9,9,9,9,88])\n",
    "B= set([-1,-2,23,3,4,9,9,])"
   ]
  },
  {
   "cell_type": "code",
   "execution_count": 62,
   "metadata": {},
   "outputs": [
    {
     "name": "stdout",
     "output_type": "stream",
     "text": [
      "{1, 2, 3, 4, 9, 10, 88}\n",
      "10 already in A\n",
      "10 not in A\n"
     ]
    }
   ],
   "source": [
    "\"\"\"Sourabh - set add and remove\n",
    "\"\"\"\n",
    "A.add(1)\n",
    "A.add(10) # set does not add duplicates doesnt raise error too\n",
    "print(A)\n",
    "# to check if element already in set \n",
    "if 10 in A: print(\"10 already in A\") \n",
    "# to remove element from a set \n",
    "A.discard(10)\n",
    "print(\"10 already in A\") if 10 in A else print(\"10 not in A\")"
   ]
  },
  {
   "cell_type": "code",
   "execution_count": 80,
   "metadata": {},
   "outputs": [
    {
     "data": {
      "text/plain": [
       "{1, 2, 88}"
      ]
     },
     "execution_count": 80,
     "metadata": {},
     "output_type": "execute_result"
    }
   ],
   "source": [
    "A-B"
   ]
  },
  {
   "cell_type": "code",
   "execution_count": 81,
   "metadata": {},
   "outputs": [
    {
     "data": {
      "text/plain": [
       "{3, 4, 9}"
      ]
     },
     "execution_count": 81,
     "metadata": {},
     "output_type": "execute_result"
    }
   ],
   "source": [
    "A.intersection(B)"
   ]
  },
  {
   "cell_type": "code",
   "execution_count": 82,
   "metadata": {},
   "outputs": [
    {
     "data": {
      "text/plain": [
       "{-2, -1, 1, 2, 3, 4, 9, 23, 88}"
      ]
     },
     "execution_count": 82,
     "metadata": {},
     "output_type": "execute_result"
    }
   ],
   "source": [
    "A.union(B)"
   ]
  },
  {
   "cell_type": "code",
   "execution_count": 67,
   "metadata": {},
   "outputs": [
    {
     "name": "stdout",
     "output_type": "stream",
     "text": [
      "subs is subset of ss\n"
     ]
    }
   ],
   "source": [
    "\"\"\" Sourabh - compare sets to check if superset or subset\n",
    "\"\"\"\n",
    "ss = set([1,2,3,4,5,6,7,8,9])\n",
    "subs = set([4,5,6])\n",
    "\n",
    "   \n",
    "if ss <= subs:\n",
    "    print(\"subs is superset of ss\")\n",
    "elif ss >= subs:\n",
    "    print(\"subs is subset of ss\")\n",
    "    \n",
    "    \n"
   ]
  },
  {
   "cell_type": "code",
   "execution_count": null,
   "metadata": {},
   "outputs": [],
   "source": []
  }
 ],
 "metadata": {
  "kernelspec": {
   "display_name": "Python 3",
   "language": "python",
   "name": "python3"
  },
  "language_info": {
   "codemirror_mode": {
    "name": "ipython",
    "version": 3
   },
   "file_extension": ".py",
   "mimetype": "text/x-python",
   "name": "python",
   "nbconvert_exporter": "python",
   "pygments_lexer": "ipython3",
   "version": "3.5.5"
  },
  "widgets": {
   "state": {},
   "version": "1.1.2"
  }
 },
 "nbformat": 4,
 "nbformat_minor": 2
}
