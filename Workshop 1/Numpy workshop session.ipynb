{
 "cells": [
  {
   "cell_type": "markdown",
   "metadata": {},
   "source": [
    "Numpy Workshop session"
   ]
  },
  {
   "cell_type": "code",
   "execution_count": 34,
   "metadata": {
    "collapsed": false
   },
   "outputs": [
    {
     "name": "stdout",
     "output_type": "stream",
     "text": [
      "[1, 2, 3]\n",
      "[1 2 3]\n",
      "<class 'list'>\n",
      "<class 'numpy.ndarray'>\n"
     ]
    }
   ],
   "source": [
    "import numpy as np\n",
    "\n",
    "print ([1,2,3])\n",
    "n = np.array([1,2,3])\n",
    "print (n)\n",
    "\n",
    "print (type([1,2,3]))\n",
    "print (type(n))"
   ]
  },
  {
   "cell_type": "code",
   "execution_count": 37,
   "metadata": {
    "collapsed": false
   },
   "outputs": [
    {
     "name": "stdout",
     "output_type": "stream",
     "text": [
      "Dimension of the numpy array----> 2\n",
      "Shape of the numpy array----> (3, 3)\n"
     ]
    }
   ],
   "source": [
    "# printing the dimension and shape of an nd  numpy\n",
    "import numpy as np\n",
    "\n",
    "n = np.array([[1,2,3],[4,5,6],[2,3,4]])\n",
    "print (\"Dimension of the numpy array---->\",n.ndim)\n",
    "print (\"Shape of the numpy array---->\",n.shape)\n",
    "#print(n.shape[0])\n"
   ]
  },
  {
   "cell_type": "code",
   "execution_count": 38,
   "metadata": {
    "collapsed": false
   },
   "outputs": [
    {
     "name": "stdout",
     "output_type": "stream",
     "text": [
      "1000 loops, best of 3: 348 µs per loop\n",
      "The slowest run took 14.89 times longer than the fastest. This could mean that an intermediate result is being cached.\n",
      "1000000 loops, best of 3: 1.63 µs per loop\n"
     ]
    }
   ],
   "source": [
    "# range and arange \n",
    "import numpy as np\n",
    "L=range(1000)\n",
    "[x**2 for x in L]\n",
    "\n",
    "L2=np.arange(1000)\n",
    "L2**2\n",
    "\n",
    "\n",
    "# In[35]:\n",
    "\n",
    "get_ipython().magic(u'timeit [x**2 for x in L]')\n",
    "\n",
    "\n",
    "# In[36]:\n",
    "\n",
    "get_ipython().magic(u'timeit L2**2')"
   ]
  },
  {
   "cell_type": "code",
   "execution_count": 5,
   "metadata": {
    "collapsed": false
   },
   "outputs": [
    {
     "name": "stdout",
     "output_type": "stream",
     "text": [
      "[ 2.06154253  1.39324911  0.11322659  1.19261048  0.36755914 -1.40209885\n",
      " -0.04182723  1.21656035  0.72114516  0.09795175] [-1.18604184 -1.98764914 -0.2467481   1.11320817 -0.58641922  0.08248916\n",
      "  0.40539202  1.07370184  0.42753225 -0.23193332]\n",
      "[ 2.06154253  1.39324911  0.11322659  1.19261048  0.36755914  0.08248916\n",
      "  0.40539202  1.21656035  0.72114516  0.09795175]\n"
     ]
    }
   ],
   "source": [
    "from numpy.random import randn\n",
    "\n",
    "\n",
    "# In[38]:\n",
    "\n",
    "np.sin(randn(100))\n",
    "\n",
    "\n",
    "# In[39]:\n",
    "\n",
    "x= randn(10)\n",
    "y= randn(10)\n",
    "print(x,y)\n",
    "print(np.maximum(x,y))\n"
   ]
  },
  {
   "cell_type": "code",
   "execution_count": 7,
   "metadata": {
    "collapsed": false
   },
   "outputs": [
    {
     "name": "stdout",
     "output_type": "stream",
     "text": [
      "[[ 0  1  2  3  4]\n",
      " [ 5  6  7  8  9]\n",
      " [10 11 12 13 14]]\n",
      "[[ 0  5 10]\n",
      " [ 1  6 11]\n",
      " [ 2  7 12]\n",
      " [ 3  8 13]\n",
      " [ 4  9 14]]\n",
      "[[125 140 155 170 185]\n",
      " [140 158 176 194 212]\n",
      " [155 176 197 218 239]\n",
      " [170 194 218 242 266]\n",
      " [185 212 239 266 293]]\n"
     ]
    }
   ],
   "source": [
    "import numpy as np\n",
    "arr = np.arange(15).reshape((3,5))\n",
    "print(arr)\n",
    "print(arr.T)\n",
    "\n",
    "print(np.dot(arr.T,arr))"
   ]
  },
  {
   "cell_type": "code",
   "execution_count": 8,
   "metadata": {
    "collapsed": false
   },
   "outputs": [
    {
     "name": "stdout",
     "output_type": "stream",
     "text": [
      "[[-0.34508069  1.75599937  0.26487167  0.9669333 ]\n",
      " [ 2.20022637 -0.02088213 -0.13679944  1.09675474]\n",
      " [-1.1412583  -0.93136896  2.07352539 -0.22419319]\n",
      " [-0.02660881 -0.4493576   1.65694726 -0.53563917]\n",
      " [-1.32785243 -0.62289117  0.76633336 -0.75782261]]\n",
      "0.213091847757\n",
      "4.26183695514\n",
      "[-0.64057386 -0.26850049  4.62487824  0.54603306]\n",
      "[ 2.64272365  3.13929954 -0.22329505  0.64534167 -1.94223285]\n",
      "[-0.34508069  1.41091868  1.67579035  2.64272365  4.84295002  4.82206789\n",
      "  4.68526845  5.78202319  4.64076489  3.70939593  5.78292132  5.55872814\n",
      "  5.53211933  5.08276172  6.73970898  6.20406981  4.87621738  4.25332621\n",
      "  5.01965957  4.26183696]\n"
     ]
    }
   ],
   "source": [
    "import numpy as np\n",
    "arr= np.random.randn(5,4)\n",
    "print(arr)\n",
    "\n",
    "print(arr.mean())\n",
    "print(arr.sum())\n",
    "\n",
    "#r\n",
    "print(arr.sum(axis=0)) \n",
    "print(arr.sum(axis=1))\n",
    "print(arr.cumsum())\n"
   ]
  },
  {
   "cell_type": "code",
   "execution_count": 41,
   "metadata": {
    "collapsed": false
   },
   "outputs": [
    {
     "name": "stdout",
     "output_type": "stream",
     "text": [
      "[1 3]\n"
     ]
    }
   ],
   "source": [
    "import numpy as np\n",
    "\n",
    "A= np.array([1,1,1,1,1,3])\n",
    "\n",
    "\n",
    "print(np.unique(A))"
   ]
  },
  {
   "cell_type": "markdown",
   "metadata": {},
   "source": [
    "Linear Algebra in Numpy"
   ]
  },
  {
   "cell_type": "code",
   "execution_count": 10,
   "metadata": {
    "collapsed": false
   },
   "outputs": [
    {
     "name": "stdout",
     "output_type": "stream",
     "text": [
      "[[ 1.16383748 -1.4794961  -1.83669792 ...,  0.11029316  0.60073181\n",
      "   0.26531879]\n",
      " [ 1.34157475 -0.04223407 -0.89037501 ..., -0.53900407  0.22955963\n",
      "  -1.28797641]\n",
      " [-1.8137602   1.05122563 -0.02548042 ...,  0.72391247 -0.93202094\n",
      "   1.01636989]\n",
      " ..., \n",
      " [ 0.20254559 -0.23613691  0.53406835 ..., -1.19297362  0.20494097\n",
      "   1.1824505 ]\n",
      " [-0.3084698  -1.2625703  -0.88173982 ..., -0.28394486  1.17656714\n",
      "   1.18083553]\n",
      " [ 0.41693455  0.55068544  1.71910368 ..., -1.3407854  -0.67353009\n",
      "  -0.28313285]]\n",
      "[[  6.02033814  18.6949946    1.73986959 ...,  -0.3198642    4.25753147\n",
      "    3.81273783]\n",
      " [ 18.6949946   64.85703144   5.99513787 ...,  -1.08443016  13.92213815\n",
      "   13.01010183]\n",
      " [  1.73986959   5.99513787   2.16608179 ...,  -0.12074518   1.30876234\n",
      "    1.37347109]\n",
      " ..., \n",
      " [ -0.3198642   -1.08443016  -0.12074518 ...,   0.16690133  -0.2378764\n",
      "   -0.22972828]\n",
      " [  4.25753147  13.92213815   1.30876234 ...,  -0.2378764    3.47266697\n",
      "    2.67532165]\n",
      " [  3.81273783  13.01010183   1.37347109 ...,  -0.22972828   2.67532165\n",
      "    2.86109512]]\n"
     ]
    }
   ],
   "source": [
    "from numpy.linalg import inv\n",
    "\n",
    "\n",
    "x= np.random.randn(500,500)\n",
    "print(x)\n",
    "\n",
    "print(inv(x.T.dot(x)))"
   ]
  },
  {
   "cell_type": "markdown",
   "metadata": {},
   "source": [
    "Pandas Library"
   ]
  },
  {
   "cell_type": "code",
   "execution_count": 23,
   "metadata": {
    "collapsed": false
   },
   "outputs": [
    {
     "name": "stdout",
     "output_type": "stream",
     "text": [
      "[11  9 20]\n",
      "RangeIndex(start=0, stop=3, step=1)\n",
      "[11  9 20]\n",
      "9\n",
      "[1 2 3 4]\n"
     ]
    }
   ],
   "source": [
    "import numpy as np\n",
    "import pandas as pd\n",
    "from pandas import Series, DataFrame\n",
    "\n",
    "a=Series([11,9,20])\n",
    "print (a.values)\n",
    "print (a.index)\n",
    "#https://pandas.pydata.org/pandas-docs/stable/indexing.html\n",
    "\n",
    "a=Series([11,9,20], index=[\"a\",\"b\",\"c\"])\n",
    "print(a)\n",
    "\n",
    "\n",
    "# In[52]:\n",
    "\n",
    "print(a[\"b\"])\n",
    "\n",
    "\n",
    "# In[53]:\n",
    "\n",
    "data={'ohio':234.8, 'Texas':456,\"Oregan\":789,\"Utah\":5000}\n",
    "Series(data)\n",
    "\n",
    "\n",
    "# In[54]:\n",
    "\n",
    "a=Series([1,2,3,4],index=[\"a\",\"b\",\"c\",\"d\"])\n",
    "a.reindex([\"a\",\"b\",\"c\",\"d\",\"e\"],fill_value=0)\n",
    "\n",
    "print(a)"
   ]
  },
  {
   "cell_type": "code",
   "execution_count": 43,
   "metadata": {
    "collapsed": false
   },
   "outputs": [
    {
     "name": "stdout",
     "output_type": "stream",
     "text": [
      "   pop  states  year\n",
      "0  1.5    Ohio  2000\n",
      "1  1.7    Ohio  2001\n",
      "2  2.4    Ohio  2002\n",
      "3  2.9  Nevada  2001\n",
      "4  3.2  Nevada  2002\n",
      "------head----------\n",
      "   pop states  year\n",
      "0  1.5   Ohio  2000\n",
      "1  1.7   Ohio  2001\n",
      "-------tail---------\n",
      "   pop  states  year\n",
      "2  2.4    Ohio  2002\n",
      "3  2.9  Nevada  2001\n",
      "4  3.2  Nevada  2002\n",
      "-------add col---------\n",
      "   pop  states  year   debt\n",
      "0  1.5    Ohio  2000   True\n",
      "1  1.7    Ohio  2001   True\n",
      "2  2.4    Ohio  2002   True\n",
      "3  2.9  Nevada  2001  False\n",
      "4  3.2  Nevada  2002  False\n",
      "----------------\n",
      "----------------\n",
      "            one       two     three      four\n",
      "Ohio   1.051710 -0.199102 -2.509394 -0.126583\n",
      "Utah   0.481183 -1.717772  1.071980 -1.693308\n",
      "Texas -0.445431 -0.471541 -0.847347  0.761684\n",
      "NY    -0.185022  0.258978  0.975294  0.524935\n",
      "------Sort on axis----------\n",
      "           four       one     three       two\n",
      "Ohio  -0.126583  1.051710 -2.509394 -0.199102\n",
      "Utah  -1.693308  0.481183  1.071980 -1.717772\n",
      "Texas  0.761684 -0.445431 -0.847347 -0.471541\n",
      "NY     0.524935 -0.185022  0.975294  0.258978\n",
      "------print with condition----------\n",
      "          four       one     three       two\n",
      "Utah -1.693308  0.481183  1.071980 -1.717772\n",
      "NY    0.524935 -0.185022  0.975294  0.258978\n",
      "-------change values in the series---------\n",
      "           four       one     three       two\n",
      "Ohio   0.000000  1.051710  0.000000  0.000000\n",
      "Utah   0.000000  0.481183  1.071980  0.000000\n",
      "Texas  0.761684  0.000000  0.000000  0.000000\n",
      "NY     0.524935  0.000000  0.975294  0.258978\n",
      "-------printing labels---------\n",
      "one    1.05171\n",
      "two    0.00000\n",
      "Name: Ohio, dtype: float64\n",
      "--------apply function--------\n",
      "           four       one     three       two\n",
      "Ohio   0.000000  1.051710  0.000000  0.000000\n",
      "Utah   0.000000  0.481183  1.071980  0.000000\n",
      "Texas  0.761684  0.000000  0.000000  0.000000\n",
      "NY     0.524935  0.000000  0.975294  0.258978\n",
      "--------apply function lambda--------\n",
      "           four       one     three       two\n",
      "Ohio   0.000000  1.051710  0.000000  0.000000\n",
      "Utah   0.000000  0.481183  1.071980  0.000000\n",
      "Texas  0.761684  0.000000  0.000000  0.000000\n",
      "NY     0.524935  0.000000  0.975294  0.258978\n",
      "----------iloc-integer based location ----\n",
      "Ohio     0.000000\n",
      "Utah     1.071980\n",
      "Texas    0.000000\n",
      "NY       0.975294\n",
      "Name: three, dtype: float64\n",
      "            one     three\n",
      "Ohio   1.051710  0.000000\n",
      "Utah   0.481183  1.071980\n",
      "Texas  0.000000  0.000000\n",
      "NY     0.000000  0.975294\n",
      "            one    three\n",
      "Utah   0.481183  1.07198\n",
      "Texas  0.000000  0.00000\n",
      "           four       one    three  two\n",
      "Utah   0.000000  0.481183  1.07198  0.0\n",
      "Texas  0.761684  0.000000  0.00000  0.0\n",
      "------add labels-----\n",
      "           four       one     three       two Label\n",
      "Ohio   0.000000  1.051710  0.000000  0.000000     a\n",
      "Utah   0.000000  0.481183  1.071980  0.000000     b\n",
      "Texas  0.761684  0.000000  0.000000  0.000000     b\n",
      "NY     0.524935  0.000000  0.975294  0.258978     a\n",
      "----------query and group by---\n",
      "Label\n",
      "a    0.258978\n",
      "b    0.000000\n",
      "Name: two, dtype: float64\n",
      "Label  three   \n",
      "a      0.000000    0.000000\n",
      "       0.975294    0.258978\n",
      "b      0.000000    0.000000\n",
      "       1.071980    0.000000\n",
      "Name: two, dtype: float64\n",
      "---------query----\n",
      "          four      one     three       two Label\n",
      "Ohio  0.000000  1.05171  0.000000  0.000000     a\n",
      "NY    0.524935  0.00000  0.975294  0.258978     a\n",
      "      four      one  three  two Label\n",
      "Ohio   0.0  1.05171    0.0  0.0     a\n",
      "----split into groups---\n",
      "     A      B         C         D\n",
      "0  foo    one  0.129427 -0.391828\n",
      "1  bar    one -0.262271  0.955422\n",
      "2  foo    two  0.052777  0.464453\n",
      "3  bar  three -1.983606 -0.498501\n",
      "4  foo    two  1.259646 -1.012158\n",
      "5  bar    two -0.613704 -0.010406\n",
      "6  foo    one -0.032450 -0.348215\n",
      "7  foo  three -0.660585 -1.267865\n",
      "----split into groups---\n",
      "<pandas.core.groupby.DataFrameGroupBy object at 0x00000208853429B0>\n",
      "----split into groups by lists---\n",
      "<pandas.core.groupby.DataFrameGroupBy object at 0x000002088533B748>\n",
      "----split into groups by function---\n",
      "<pandas.core.groupby.DataFrameGroupBy object at 0x00000208853429B0>\n",
      "consonant\n",
      "       B         C         D\n",
      "0    one  0.129427 -0.391828\n",
      "1    one -0.262271  0.955422\n",
      "2    two  0.052777  0.464453\n",
      "3  three -1.983606 -0.498501\n",
      "4    two  1.259646 -1.012158\n",
      "5    two -0.613704 -0.010406\n",
      "6    one -0.032450 -0.348215\n",
      "7  three -0.660585 -1.267865\n",
      "vowel\n",
      "     A\n",
      "0  foo\n",
      "1  bar\n",
      "2  foo\n",
      "3  bar\n",
      "4  foo\n",
      "5  bar\n",
      "6  foo\n",
      "7  foo\n"
     ]
    }
   ],
   "source": [
    "# data frame in pandas\n",
    "import numpy as np\n",
    "import pandas as pd\n",
    "from pandas import Series, DataFrame\n",
    "data= {'states':[\"Ohio\",\"Ohio\",\"Ohio\",\"Nevada\",\"Nevada\"],\n",
    "       'year':[2000,2001,2002,2001,2002],\n",
    "       'pop':[1.5,1.7,2.4,2.9,3.2]}\n",
    "\n",
    "\n",
    "\n",
    "\n",
    "frame=DataFrame(data)\n",
    "print(frame)\n",
    "print(\"------head----------\")\n",
    "\n",
    "\n",
    "print (frame.head(2))\n",
    "print(\"-------tail---------\")\n",
    "print (frame.tail(3))\n",
    "print(\"-------add col---------\")\n",
    "\n",
    "\n",
    "# In[58]:\n",
    "\n",
    "#frame[\"states\"]\n",
    "frame[\"debt\"]=0\n",
    "frame[\"debt\"]=np.arange(5)\n",
    "frame[\"debt\"]=frame[\"states\"]==\"Ohio\"\n",
    "print(frame)\n",
    "print(\"----------------\")\n",
    "\n",
    "data= DataFrame (np.random.randn(16).reshape((4,4)), \n",
    "                index=[\"Ohio\",\"Utah\",\"Texas\",\"NY\"],\n",
    "                columns=['one','two','three','four'])\n",
    "\n",
    "#olumns=['one','two','three','four']\n",
    "#olumns.sort()\n",
    "#rint(columns)\n",
    "print(\"----------------\")\n",
    "\n",
    "print(data)\n",
    "print(\"------Sort on axis----------\")\n",
    "# sort on axis 1\n",
    "data=data.sort_index(axis=1)\n",
    "print(data)\n",
    "print(\"------print with condition----------\")\n",
    "\n",
    "print (data[data[\"three\"]>0.05] )\n",
    "print(\"-------change values in the series---------\")\n",
    "data[data<0.05]=0\n",
    "print(data)\n",
    "print(\"-------printing labels---------\")\n",
    "print(data.ix['Ohio',['one','two']])\n",
    "print(\"--------apply function--------\")\n",
    "\n",
    "data.apply(sum,axis=0)\n",
    "print(data)\n",
    "print(\"--------apply function lambda--------\")\n",
    "data.apply(lambda x: x.max()-x.min(),axis=0)\n",
    "print(data)\n",
    "print(\"----------iloc-integer based location ----\")\n",
    "print(data.iloc[:,2])\n",
    "print(data.iloc[:,1:3])\n",
    "print(data.iloc[1:3,1:3])\n",
    "print(data.iloc[1:3,])\n",
    "\n",
    "print(\"------add labels-----\")\n",
    "data[\"Label\"]=[\"a\",\"b\",\"b\",\"a\"]\n",
    "print(data)\n",
    "\n",
    "print(\"----------query and group by---\")\n",
    "print(data.groupby(\"Label\")[\"two\"].sum())\n",
    "\n",
    "print(data.groupby([\"Label\",\"three\"])[\"two\"].sum())\n",
    "\n",
    "\n",
    "# In[81]:\n",
    "print(\"---------query----\")\n",
    "\n",
    "print(data.query(' Label==\"a\" '))\n",
    "print(data.query(' Label==\"a\" and one >0.5'))\n",
    "\n",
    "print(\"----split into groups---\")\n",
    "#Splitting an object into groups\n",
    "df = pd.DataFrame({'A' : ['foo', 'bar', 'foo', 'bar',\n",
    "                              'foo', 'bar', 'foo', 'foo'],\n",
    "                       'B' : ['one', 'one', 'two', 'three',\n",
    "                              'two', 'two', 'one', 'three'],\n",
    "                       'C' : np.random.randn(8),\n",
    "                       'D' : np.random.randn(8)})\n",
    "print(df)\n",
    "print(\"----split into groups---\")\n",
    "grouped = df.groupby('A')\n",
    "print(grouped)\n",
    "print(\"----split into groups by lists---\")\n",
    "grouped = df.groupby(['A', 'B'])\n",
    "print(grouped)\n",
    "\n",
    "def get_letter_type(letter):\n",
    "        if letter.lower() in 'aeiou':\n",
    "            return 'vowel'\n",
    "        else:\n",
    "            return 'consonant'\n",
    "print(\"----split into groups by function---\")\n",
    "grouped = df.groupby(get_letter_type, axis=1)\n",
    "print(grouped)\n",
    "for name, group in grouped:\n",
    "           print(name)\n",
    "           print(group)"
   ]
  }
 ],
 "metadata": {
  "kernelspec": {
   "display_name": "Python 3",
   "language": "python",
   "name": "python3"
  },
  "language_info": {
   "codemirror_mode": {
    "name": "ipython",
    "version": 3
   },
   "file_extension": ".py",
   "mimetype": "text/x-python",
   "name": "python",
   "nbconvert_exporter": "python",
   "pygments_lexer": "ipython3",
   "version": "3.6.0"
  }
 },
 "nbformat": 4,
 "nbformat_minor": 2
}
