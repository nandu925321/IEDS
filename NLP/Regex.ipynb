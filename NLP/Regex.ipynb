{
 "cells": [
  {
   "cell_type": "markdown",
   "metadata": {},
   "source": [
    "# Objective: <br>\n",
    "<ol><li>Introduction to Regular Expression.</li>\n",
    "    <li>Examples and use cases.</li><ol>"
   ]
  },
  {
   "cell_type": "code",
   "execution_count": 1,
   "metadata": {},
   "outputs": [],
   "source": [
    "import re"
   ]
  },
  {
   "cell_type": "markdown",
   "metadata": {},
   "source": [
    "**Regular expressions are very useful, especially in text pre-processing.**<br>\n",
    "**Before using them we need to know the basic steps:**<br>\n",
    "<ol>\n",
    "    <li> Come up with the regular expression. </li>\n",
    "    <li> Compile the regular expression. </li>\n",
    "    <li> Use the complied RE object to match, search, replace etc.</li>\n",
    "    \n",
    "</ol>"
   ]
  },
  {
   "cell_type": "code",
   "execution_count": 11,
   "metadata": {},
   "outputs": [
    {
     "name": "stdout",
     "output_type": "stream",
     "text": [
      "None\n"
     ]
    }
   ],
   "source": [
    "# compiled the regular expression\n",
    "p = re.compile('xyz*',re.IGNORECASE)\n",
    "m=p.match(\"abcdefgh\")\n",
    "print(m) # NO match\n"
   ]
  },
  {
   "cell_type": "code",
   "execution_count": 12,
   "metadata": {},
   "outputs": [
    {
     "name": "stdout",
     "output_type": "stream",
     "text": [
      "None\n",
      "<_sre.SRE_Match object; span=(0, 3), match='XYZ'>\n",
      "<_sre.SRE_Match object; span=(0, 3), match='xyz'>\n"
     ]
    }
   ],
   "source": [
    "\n",
    "m=p.match(\"abcdxyzxy\")\n",
    "print(m) # No match again contains xyz but does not start with xyz\n",
    "m=p.match(\"XYZXYZABC\")\n",
    "print(m)\n",
    "m=p.match(\"XYZXYZABC\".lower())\n",
    "print(m)\n"
   ]
  },
  {
   "cell_type": "code",
   "execution_count": 22,
   "metadata": {},
   "outputs": [
    {
     "name": "stdout",
     "output_type": "stream",
     "text": [
      "<_sre.SRE_Match object; span=(4, 7), match='xyz'>\n"
     ]
    }
   ],
   "source": [
    "# lets try using search\n",
    "m=p.search(\"abcdxyzxy\")\n",
    "print(m)"
   ]
  },
  {
   "cell_type": "code",
   "execution_count": 25,
   "metadata": {},
   "outputs": [
    {
     "name": "stdout",
     "output_type": "stream",
     "text": [
      "['xyz', 'xyz']\n"
     ]
    }
   ],
   "source": [
    "#findall\n",
    "m=p.findall(\"abcdxyzxy123456789xyz\")\n",
    "print(m)"
   ]
  },
  {
   "cell_type": "code",
   "execution_count": 38,
   "metadata": {},
   "outputs": [
    {
     "name": "stdout",
     "output_type": "stream",
     "text": [
      "['1', '2', '0', '0', '2', '0', '1', '4', '5', '2', '0', '1', '9']\n",
      "[1200, 2014, 5, 2019]\n",
      "1200 (38, 42)\n",
      "2014 (106, 110)\n",
      "5 (137, 138)\n",
      "2019 (193, 197)\n"
     ]
    }
   ],
   "source": [
    "# Extracting all numbers from a string\n",
    "string = \"Bob was planning to buy a model-y for 1200 USD but he was having seconds thoughts, it was manufactured in 2014. On the other hand it had 5 years extended warranty plan active that runs through 2019.\"\n",
    "# when to use findall - if you just want all numbers in a list\n",
    "find_digits  = re.compile('\\d').findall(string) # \\d matches all the digits\n",
    "print(find_digits) # extracts each digit individually\n",
    "\n",
    "find_digits  = re.compile('\\d+').findall(string) # \\d matches all the digits + matches at least once\n",
    "print([int(x) for x in find_digits])\n",
    "\n",
    "# If you need spans of the numbers -\n",
    "iterator = re.compile('\\d+').finditer(string)\n",
    "for match in iterator:\n",
    "    print(match.group(),match.span())"
   ]
  },
  {
   "cell_type": "markdown",
   "metadata": {},
   "source": [
    "**Replace function. ** <br>\n",
    "** sub function first finds the substring that matches with the RE then re places it with the string provided and returns the resulting string. If the pattern is not found it returns the original string unchanged.**"
   ]
  },
  {
   "cell_type": "code",
   "execution_count": 42,
   "metadata": {},
   "outputs": [
    {
     "name": "stdout",
     "output_type": "stream",
     "text": [
      "Bob was planning to buy a model-y for  USD but he was having seconds thoughts, it was manufactured in . On the other hand it had  years extended warranty plan active that runs through .\n"
     ]
    }
   ],
   "source": [
    "# 1. Delete numbers from the string above\n",
    "num_removed = re.sub('\\d+','',string) # input takes RE, string that is to be replaced, input string\n",
    "print(num_removed)"
   ]
  },
  {
   "cell_type": "code",
   "execution_count": 40,
   "metadata": {},
   "outputs": [
    {
     "name": "stdout",
     "output_type": "stream",
     "text": [
      "Bob was planning to buy a model-y for NUM USD but he was having seconds thoughts, it was manufactured in NUM. On the other hand it had NUM years extended warranty plan active that runs through NUM.\n"
     ]
    }
   ],
   "source": [
    "# 2. replace all numbers with string\n",
    "num_replaced = re.sub('\\d+','NUM',string) # input takes RE, string that is to be replaced, input string\n",
    "print(num_replaced)"
   ]
  },
  {
   "cell_type": "code",
   "execution_count": 44,
   "metadata": {},
   "outputs": [
    {
     "name": "stdout",
     "output_type": "stream",
     "text": [
      "aaa   bbbbb cc ccc ddgtc   gh\n",
      "aaa bbbbb cc ccc ddgtc gh\n"
     ]
    }
   ],
   "source": [
    "# 3. Eliminate all duplicate white spaces\n",
    "string_with_duplicate_whites = \"aaa   bbbbb cc ccc ddgtc   gh\"\n",
    "print(string_with_duplicate_whites)\n",
    "whitespaces = re.sub(r'\\s+', ' ',   string_with_duplicate_whites)\n",
    "print(whitespaces)\n"
   ]
  },
  {
   "cell_type": "code",
   "execution_count": 45,
   "metadata": {},
   "outputs": [
    {
     "name": "stdout",
     "output_type": "stream",
     "text": [
      "Bob was planning to buy a model-y for  USD but he was having seconds thoughts, it was manufactured in . On the other hand it had  years extended warranty plan active that runs through . 4\n"
     ]
    }
   ],
   "source": [
    "#4. To return the number of replacements use subn\n",
    "num_removed = re.subn('\\d+','',string) # input takes RE, string that is to be replaced, input string\n",
    "print(num_removed[0],num_removed[1])"
   ]
  },
  {
   "cell_type": "markdown",
   "metadata": {},
   "source": [
    "# Using RE"
   ]
  },
  {
   "cell_type": "markdown",
   "metadata": {},
   "source": [
    "**1.Finding all adverbs. Assuming they end with -ly**"
   ]
  },
  {
   "cell_type": "code",
   "execution_count": 46,
   "metadata": {},
   "outputs": [
    {
     "name": "stdout",
     "output_type": "stream",
     "text": [
      "carefully (29, 38)\n",
      "efficiently (57, 68)\n",
      "blehly (70, 76)\n"
     ]
    }
   ],
   "source": [
    "adverb = \"The module was designed very carefully and deployed very efficiently, blehly.\"\n",
    "iter_adverb = re.finditer('\\w+ly',adverb) # \\w matches any alphanumeric character + ensures ly is present atleast once.\n",
    "#                                            Note how the assumptions we make are very important. Once we get all the words\n",
    "#                                            We could use wordnet to check for spellings as shown in previous notebook\n",
    "for adv in iter_adverb:\n",
    "    print(adv.group(),adv.span())"
   ]
  },
  {
   "cell_type": "markdown",
   "metadata": {},
   "source": [
    "**2.Finding all nouns. Assuming they start with capital letter.**"
   ]
  },
  {
   "cell_type": "code",
   "execution_count": 54,
   "metadata": {},
   "outputs": [
    {
     "name": "stdout",
     "output_type": "stream",
     "text": [
      "Ajkjahjkah (9, 19)\n",
      "Bkjakajksd (20, 30)\n",
      "Thskdfh231 (42, 52)\n"
     ]
    }
   ],
   "source": [
    "nouns  = \"asdhagsd Ajkjahjkah Bkjakajksd sefafa1233 Thskdfh231\"\n",
    "iter_noun = re.finditer('[A-Z]{1}\\w*',nouns) # The set of capital letters [A-Z] {1} repeats once followed by w \n",
    "\n",
    "for noun in iter_noun:\n",
    "    print(noun.group(),noun.span())"
   ]
  },
  {
   "cell_type": "markdown",
   "metadata": {},
   "source": [
    "**3.Pluralize nouns with regular expressions - we did this with text blob in the previous notebook.**<br>\n",
    "**Before we start compiling regular expressions for the task we need to have some rules that define the suffixes.**<br>\n",
    "<ol>\n",
    "    <li>If a word ends in s, x, or z, add es</li>\n",
    "    <li>If a word ends in a noisy h, add es; if it ends in a silent h, just add s.What's a noisy h? One that gets combined with other letters to make a sound that we can hear. So coach becomes coaches and rash becomes rashes, because we can hear the ch and sh sounds when we say them. But cheetah becomes cheetahs, because the h is silent.</li>\n",
    "    <li>If a word ends in y that sounds like i, change the y to ies; if the y is combined with a vowel to sound like something else, just add s.</li>\n",
    "    <li>If all else fails add s.</li>\n",
    "    </ol>"
   ]
  },
  {
   "cell_type": "code",
   "execution_count": 55,
   "metadata": {},
   "outputs": [],
   "source": [
    "def pluralize(noun):          \n",
    "    if re.search('[sxz]$', noun): # $ matches the ending    \n",
    "        return re.sub('$', 'es', noun)\n",
    "    elif re.search('[^aeioudgkprt]h$', noun): # ^matches the beginning similar to {1}\n",
    "        return re.sub('$', 'es', noun)       \n",
    "    elif re.search('[^aeiou]y$', noun):      \n",
    "        return re.sub('y$', 'ies', noun)     \n",
    "    else:\n",
    "        return noun + 's'"
   ]
  },
  {
   "cell_type": "code",
   "execution_count": 59,
   "metadata": {},
   "outputs": [
    {
     "name": "stdout",
     "output_type": "stream",
     "text": [
      "knifes\n"
     ]
    }
   ],
   "source": [
    "N = \"knife\" # change the nouns here\n",
    "print(pluralize(N))"
   ]
  },
  {
   "cell_type": "markdown",
   "metadata": {},
   "source": [
    "**Excercise - Download a list of nouns and their plurals off the internet, using this function evaluate the answers. If you encounter a wrong answer using the function. Come up with a new rule and include it in the above function.** "
   ]
  },
  {
   "cell_type": "markdown",
   "metadata": {},
   "source": [
    "**4.Parse telephone numbers.**\n",
    "There is no one correct way"
   ]
  },
  {
   "cell_type": "code",
   "execution_count": 62,
   "metadata": {},
   "outputs": [
    {
     "name": "stdout",
     "output_type": "stream",
     "text": [
      "('415', '867', '5309', '9999')\n",
      "('415', '867', '5309', '')\n",
      "('415', '867', '5309', '9999')\n"
     ]
    }
   ],
   "source": [
    "# This way of writing a regular expression is easier to understand and modify. We use re.versbose argument when RE is defined this way.\n",
    "pattern = re.compile(r'''\n",
    "                # don't match beginning of string, number can start anywhere\n",
    "    (\\d{3})     # area code is 3 digits (e.g. '415')\n",
    "    \\D*         # optional separator is any number of non-digits\n",
    "    (\\d{3})     # trunk is 3 digits (e.g. '867')\n",
    "    \\D*         # optional separator\n",
    "    (\\d{4})     # rest of number is 4 digits (e.g. '5309')\n",
    "    \\D*         # optional separator\n",
    "    (\\d*)       # extension is optional and can be any number of digits\n",
    "    $           # end of string\n",
    "    ''', re.VERBOSE)\n",
    "\n",
    "print(pattern.search('emergency 1-(415) 867.5309 #9999').groups())\n",
    "print(pattern.search('415-867-5309').groups())\n",
    "print(pattern.search('(415)86753099999').groups())\n",
    "\n",
    "# Since we are not matching anything at beginning as in teh previous example RE engine figures out the start when it \n",
    "# encounters 3 digits followed.\n",
    "# Note that \\D matches any non digit. and \\d matches any digit.\n"
   ]
  },
  {
   "cell_type": "markdown",
   "metadata": {},
   "source": [
    "**5.Gather hashtags from tweets.**"
   ]
  },
  {
   "cell_type": "code",
   "execution_count": 63,
   "metadata": {},
   "outputs": [
    {
     "name": "stdout",
     "output_type": "stream",
     "text": [
      "[(' ', 'Tweet23')]\n"
     ]
    }
   ],
   "source": [
    "# This is an excercise. Explain the RE defined below. Try it with a few tweets. If it fails come up with a better RE.\n",
    "hashtag_re = re.compile(\"(^|[^A-Za-z0-9/_])[##]{1}([A-Za-z0-9_]+)\",re.UNICODE)\n",
    "hashtags = hashtag_re.findall(\"$your #Tweet23@ Her#ee\")\n",
    "print(hashtags)"
   ]
  }
 ],
 "metadata": {
  "kernelspec": {
   "display_name": "Python 3",
   "language": "python",
   "name": "python3"
  },
  "language_info": {
   "codemirror_mode": {
    "name": "ipython",
    "version": 3
   },
   "file_extension": ".py",
   "mimetype": "text/x-python",
   "name": "python",
   "nbconvert_exporter": "python",
   "pygments_lexer": "ipython3",
   "version": "3.5.5"
  },
  "widgets": {
   "state": {},
   "version": "1.1.2"
  }
 },
 "nbformat": 4,
 "nbformat_minor": 2
}
