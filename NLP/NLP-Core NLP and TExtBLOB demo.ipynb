{
 "cells": [
  {
   "cell_type": "markdown",
   "metadata": {},
   "source": [
    "# Objective: <br>\n",
    "<ol><li>Introduction to word processing, Parts of speech tagging</li>\n",
    "<li>Introduction to NLTK,TextBlob packages. </li>\n",
    "<li>N-grams with text blob.</li></ol>"
   ]
  },
  {
   "cell_type": "code",
   "execution_count": 1,
   "metadata": {},
   "outputs": [],
   "source": [
    "# NLP - Parts of speech tagging.\n",
    "import nltk"
   ]
  },
  {
   "cell_type": "code",
   "execution_count": 3,
   "metadata": {},
   "outputs": [],
   "source": [
    "# some sample text\n",
    "text = (\"Pierre Vinken, 61 years old, will join the board as a nonexecutive director Nov. 29. \" +\n",
    "\"Mr. Vinken is chairman of Elsevier N.V., the Dutch publishing group. \" +\n",
    "\"Rudolph Agnew, 55 years old and former chairman of Consolidated Gold Fields PLC, \" +\n",
    "\"was named a director of this British industrial conglomerate.\")"
   ]
  },
  {
   "cell_type": "code",
   "execution_count": 7,
   "metadata": {},
   "outputs": [
    {
     "name": "stdout",
     "output_type": "stream",
     "text": [
      "[Pierre] [Vinken] [,] [61] [years] [old] [,] [will] [join] [the] [board] [as] [a] [nonexecutive] [director] [Nov.] [29] [.] [Mr.] [Vinken] [is] [chairman] [of] [Elsevier] [N.V.] [,] [the] [Dutch] [publishing] [group] [.] [Rudolph] [Agnew] [,] [55] [years] [old] [and] [former] [chairman] [of] [Consolidated] [Gold] [Fields] [PLC] [,] [was] [named] [a] [director] [of] [this] [British] [industrial] [conglomerate] [.] \n"
     ]
    }
   ],
   "source": [
    "# word tokenizer\n",
    "from nltk.tokenize import word_tokenize\n",
    "tokens = word_tokenize(text)\n",
    "result = \"\"\n",
    "for token in tokens:\n",
    "    result += \"[\" + token + \"] \"\n",
    "print(result)\n",
    "\n"
   ]
  },
  {
   "cell_type": "code",
   "execution_count": 6,
   "metadata": {},
   "outputs": [
    {
     "name": "stdout",
     "output_type": "stream",
     "text": [
      "[Pierre Vinken, 61 years old, will join the board as a nonexecutive director Nov. 29.] [Mr. Vinken is chairman of Elsevier N.V., the Dutch publishing group.] [Rudolph Agnew, 55 years old and former chairman of Consolidated Gold Fields PLC, was named a director of this British industrial conglomerate.] \n"
     ]
    }
   ],
   "source": [
    "# sentence split\n",
    "from nltk.tokenize import sent_tokenize\n",
    "sentences = sent_tokenize(text)\n",
    "result = \"\"\n",
    "for sentence in sentences:\n",
    "\tresult += \"[\" + sentence + \"] \"\n",
    "print(result)\n"
   ]
  },
  {
   "cell_type": "markdown",
   "metadata": {},
   "source": [
    "**There are many POS taggers available, we use here the nltk library pos tagger** <br>\n",
    "**You can test a few taggers online and evaluate them yourself** <br>\n",
    "Stanford : http://nlp.stanford.edu:8080/parser/index.jsp\n"
   ]
  },
  {
   "cell_type": "code",
   "execution_count": 9,
   "metadata": {},
   "outputs": [
    {
     "name": "stdout",
     "output_type": "stream",
     "text": [
      "[Pierre/NNP] [Vinken/NNP] [,/,] [61/CD] [years/NNS] [old/JJ] [,/,] [will/MD] [join/VB] [the/DT] [board/NN] [as/IN] [a/DT] [nonexecutive/JJ] [director/NN] [Nov./NNP] [29/CD] [./.] [Mr./NNP] [Vinken/NNP] [is/VBZ] [chairman/NN] [of/IN] [Elsevier/NNP] [N.V./NNP] [,/,] [the/DT] [Dutch/NNP] [publishing/NN] [group/NN] [./.] [Rudolph/NNP] [Agnew/NNP] [,/,] [55/CD] [years/NNS] [old/JJ] [and/CC] [former/JJ] [chairman/NN] [of/IN] [Consolidated/NNP] [Gold/NNP] [Fields/NNP] [PLC/NNP] [,/,] [was/VBD] [named/VBN] [a/DT] [director/NN] [of/IN] [this/DT] [British/JJ] [industrial/JJ] [conglomerate/NN] [./.] \n"
     ]
    }
   ],
   "source": [
    "# we now use the tokens we split earlier to tag them with parts of speech\n",
    "from nltk import pos_tag\n",
    "tagged_tokens = pos_tag(tokens)\n",
    "result = \"\"\n",
    "for token in tagged_tokens:\n",
    "    result += '[' + token[0] + '/' + token[1] + '] '\n",
    "print(result)"
   ]
  },
  {
   "cell_type": "code",
   "execution_count": 10,
   "metadata": {},
   "outputs": [
    {
     "name": "stdout",
     "output_type": "stream",
     "text": [
      "[Pierre] [Vinken] [,] [61] [year] [old] [,] [will] [join] [the] [board] [a] [a] [nonexecutive] [director] [Nov.] [29] [.] [Mr.] [Vinken] [is] [chairman] [of] [Elsevier] [N.V.] [,] [the] [Dutch] [publishing] [group] [.] [Rudolph] [Agnew] [,] [55] [year] [old] [and] [former] [chairman] [of] [Consolidated] [Gold] [Fields] [PLC] [,] [wa] [named] [a] [director] [of] [this] [British] [industrial] [conglomerate] [.] \n"
     ]
    }
   ],
   "source": [
    "# Stemming using wordnet \n",
    "from nltk.stem import WordNetLemmatizer\n",
    "lemmatizer = WordNetLemmatizer()\n",
    "result = \"\"\n",
    "for token in tokens:\n",
    "\tresult += '[' + lemmatizer.lemmatize(token) + '] '\n",
    "print(result)"
   ]
  },
  {
   "cell_type": "code",
   "execution_count": 11,
   "metadata": {},
   "outputs": [],
   "source": [
    "# assembling everything together\n",
    "tokenized_sentences = [nltk.word_tokenize(sentence) for sentence in sentences]\n",
    "tagged_sentences = [nltk.pos_tag(sentence) for sentence in tokenized_sentences]\n",
    "chunked_sentences = nltk.ne_chunk_sents(tagged_sentences, binary = False)"
   ]
  },
  {
   "cell_type": "code",
   "execution_count": 12,
   "metadata": {},
   "outputs": [
    {
     "name": "stdout",
     "output_type": "stream",
     "text": [
      "[S [PERSON Pierre/NNP] [ORGANIZATION Vinken/NNP] ,/, 61/CD years/NNS old/JJ ,/, will/MD join/VB the/DT board/NN as/IN a/DT nonexecutive/JJ director/NN Nov./NNP 29/CD ./.]\n",
      "[S [PERSON Mr./NNP] [PERSON Vinken/NNP] is/VBZ chairman/NN of/IN [ORGANIZATION Elsevier/NNP] N.V./NNP ,/, the/DT [GPE Dutch/NNP] publishing/NN group/NN ./.]\n",
      "[S [PERSON Rudolph/NNP] [GPE Agnew/NNP] ,/, 55/CD years/NNS old/JJ and/CC former/JJ chairman/NN of/IN [ORGANIZATION Consolidated/NNP Gold/NNP Fields/NNP] PLC/NNP ,/, was/VBD named/VBN a/DT director/NN of/IN this/DT [GPE British/JJ] industrial/JJ conglomerate/NN ./.]\n"
     ]
    }
   ],
   "source": [
    "for sentence in chunked_sentences:\n",
    "\tstr_sentence =' '.join(str(sentence).split())\n",
    "\tstr_sentence = str_sentence.replace('(','[')\n",
    "\tstr_sentence = str_sentence.replace(')',']')\n",
    "\tprint(str_sentence)"
   ]
  },
  {
   "cell_type": "markdown",
   "metadata": {},
   "source": [
    "**We have tagged the sentences above with classes, the image below describes some of them. This is a very old list. There may be many changes to this list.** <br>\n",
    "Image from Martin Jrafsky<br>\n",
    "<img src=\"classes.png\">"
   ]
  },
  {
   "cell_type": "code",
   "execution_count": 19,
   "metadata": {},
   "outputs": [
    {
     "name": "stdout",
     "output_type": "stream",
     "text": [
      "komplex\n",
      "cloud\n",
      "match\n"
     ]
    }
   ],
   "source": [
    "# Check spellings using wordnet\n",
    "\n",
    "from nltk.corpus import wordnet as wn\n",
    "some_text = [\"komplex.complex\",\"cloud.kloud\",\"cat.cat\"]\n",
    "for pair in some_text:\n",
    "    (word1,word2) = pair.split(\".\")\n",
    "    sim=wn.path_similarity\n",
    "    synsets1 = wn.synsets(word1)\n",
    "    synsets2 = wn.synsets(word2)\n",
    "    sim_scores = []\n",
    "    for synset1 in synsets1:\n",
    "        for synset2 in synsets2:\n",
    "            sim_scores.append(sim(synset1, synset2))\n",
    "    if len(sim_scores) == 0:\n",
    "        print(word1)\n",
    "    else:\n",
    "        print(\"match\")\n",
    "    "
   ]
  },
  {
   "cell_type": "markdown",
   "metadata": {},
   "source": [
    "**This can sometime be incorrect depending on the corpus and the set of stop words being used.**\n",
    "<br> **We now will use the TextBlob library built on top of NLTK, its easy and intuitive to use.**  "
   ]
  },
  {
   "cell_type": "code",
   "execution_count": 20,
   "metadata": {},
   "outputs": [],
   "source": [
    "from textblob import TextBlob"
   ]
  },
  {
   "cell_type": "code",
   "execution_count": 21,
   "metadata": {},
   "outputs": [],
   "source": [
    "TB = TextBlob(text)"
   ]
  },
  {
   "cell_type": "code",
   "execution_count": 22,
   "metadata": {},
   "outputs": [
    {
     "data": {
      "text/plain": [
       "[('Pierre', 'NNP'),\n",
       " ('Vinken', 'NNP'),\n",
       " ('61', 'CD'),\n",
       " ('years', 'NNS'),\n",
       " ('old', 'JJ'),\n",
       " ('will', 'MD'),\n",
       " ('join', 'VB'),\n",
       " ('the', 'DT'),\n",
       " ('board', 'NN'),\n",
       " ('as', 'IN'),\n",
       " ('a', 'DT'),\n",
       " ('nonexecutive', 'JJ'),\n",
       " ('director', 'NN'),\n",
       " ('Nov.', 'NNP'),\n",
       " ('29', 'CD'),\n",
       " ('Mr.', 'NNP'),\n",
       " ('Vinken', 'NNP'),\n",
       " ('is', 'VBZ'),\n",
       " ('chairman', 'NN'),\n",
       " ('of', 'IN'),\n",
       " ('Elsevier', 'NNP'),\n",
       " ('N.V.', 'NNP'),\n",
       " ('the', 'DT'),\n",
       " ('Dutch', 'NNP'),\n",
       " ('publishing', 'NN'),\n",
       " ('group', 'NN'),\n",
       " ('Rudolph', 'NNP'),\n",
       " ('Agnew', 'NNP'),\n",
       " ('55', 'CD'),\n",
       " ('years', 'NNS'),\n",
       " ('old', 'JJ'),\n",
       " ('and', 'CC'),\n",
       " ('former', 'JJ'),\n",
       " ('chairman', 'NN'),\n",
       " ('of', 'IN'),\n",
       " ('Consolidated', 'NNP'),\n",
       " ('Gold', 'NNP'),\n",
       " ('Fields', 'NNP'),\n",
       " ('PLC', 'NNP'),\n",
       " ('was', 'VBD'),\n",
       " ('named', 'VBN'),\n",
       " ('a', 'DT'),\n",
       " ('director', 'NN'),\n",
       " ('of', 'IN'),\n",
       " ('this', 'DT'),\n",
       " ('British', 'JJ'),\n",
       " ('industrial', 'JJ'),\n",
       " ('conglomerate', 'NN')]"
      ]
     },
     "execution_count": 22,
     "metadata": {},
     "output_type": "execute_result"
    }
   ],
   "source": [
    "# Tags\n",
    "TB.tags"
   ]
  },
  {
   "cell_type": "code",
   "execution_count": 23,
   "metadata": {},
   "outputs": [
    {
     "data": {
      "text/plain": [
       "WordList(['pierre vinken', 'nonexecutive director', 'nov.', 'mr. vinken', 'elsevier n.v.', 'dutch', 'rudolph agnew', 'gold fields', 'plc', 'british industrial conglomerate'])"
      ]
     },
     "execution_count": 23,
     "metadata": {},
     "output_type": "execute_result"
    }
   ],
   "source": [
    "TB.noun_phrases"
   ]
  },
  {
   "cell_type": "code",
   "execution_count": 24,
   "metadata": {},
   "outputs": [
    {
     "data": {
      "text/plain": [
       "WordList(['Pierre', 'Vinken', '61', 'years', 'old', 'will', 'join', 'the', 'board', 'as', 'a', 'nonexecutive', 'director', 'Nov', '29', 'Mr', 'Vinken', 'is', 'chairman', 'of', 'Elsevier', 'N.V', 'the', 'Dutch', 'publishing', 'group', 'Rudolph', 'Agnew', '55', 'years', 'old', 'and', 'former', 'chairman', 'of', 'Consolidated', 'Gold', 'Fields', 'PLC', 'was', 'named', 'a', 'director', 'of', 'this', 'British', 'industrial', 'conglomerate'])"
      ]
     },
     "execution_count": 24,
     "metadata": {},
     "output_type": "execute_result"
    }
   ],
   "source": [
    "TB.words"
   ]
  },
  {
   "cell_type": "code",
   "execution_count": 25,
   "metadata": {},
   "outputs": [
    {
     "data": {
      "text/plain": [
       "[Sentence(\"Pierre Vinken, 61 years old, will join the board as a nonexecutive director Nov. 29.\"),\n",
       " Sentence(\"Mr. Vinken is chairman of Elsevier N.V., the Dutch publishing group.\"),\n",
       " Sentence(\"Rudolph Agnew, 55 years old and former chairman of Consolidated Gold Fields PLC, was named a director of this British industrial conglomerate.\")]"
      ]
     },
     "execution_count": 25,
     "metadata": {},
     "output_type": "execute_result"
    }
   ],
   "source": [
    "TB.sentences"
   ]
  },
  {
   "cell_type": "code",
   "execution_count": 26,
   "metadata": {},
   "outputs": [
    {
     "data": {
      "text/plain": [
       "Sentiment(polarity=0.08875541125541127, subjectivity=0.5753354978354979)"
      ]
     },
     "execution_count": 26,
     "metadata": {},
     "output_type": "execute_result"
    }
   ],
   "source": [
    "# sentiment analysis\n",
    "review = TextBlob(\"This is truly a fantastic iPad for the money. I was skeptical when comparing to the iPad Pro model. There are certain differences but if you can get passed aesthetics, this is most likely the iPad for you. Let's address what it doesn't do/have. It does not have the fully laminated display so there is a slight airgap between the glass the the display. This also means the display does not have the anti-glare coating. It has the A9 vs A9X chip. It has dual speakers on the bottom and not quad stereo speakers like on the Pro. It also does not have the smart connector for utilizing Apple's new Smart Cover Keyboard, and is not compatible with Apple Pencil. Other than that, I don't think you can beat this value.\")\n",
    "review.sentiment"
   ]
  },
  {
   "cell_type": "markdown",
   "metadata": {},
   "source": [
    "Excercise <br>\n",
    "**If you read the above review it seems like a positive one but why us the polarity value so low?** "
   ]
  },
  {
   "cell_type": "code",
   "execution_count": 27,
   "metadata": {},
   "outputs": [
    {
     "data": {
      "text/plain": [
       "Sentiment(polarity=0.39166666666666666, subjectivity=0.4357142857142857)"
      ]
     },
     "execution_count": 27,
     "metadata": {},
     "output_type": "execute_result"
    }
   ],
   "source": [
    "# Now we will use a simple positive review\n",
    "testimonial = TextBlob(\"Textblob is amazingly simple to use. What great fun!\")\n",
    "testimonial.sentiment"
   ]
  },
  {
   "cell_type": "code",
   "execution_count": 28,
   "metadata": {},
   "outputs": [
    {
     "data": {
      "text/plain": [
       "Sentiment(polarity=-0.625, subjectivity=0.5)"
      ]
     },
     "execution_count": 28,
     "metadata": {},
     "output_type": "execute_result"
    }
   ],
   "source": [
    "# Now we will use a simple negative review\n",
    "testimonial = TextBlob(\"Textblob is the worst. What a waste!\")\n",
    "testimonial.sentiment"
   ]
  },
  {
   "cell_type": "markdown",
   "metadata": {},
   "source": [
    "**From the above experiments you might have guessed that this happens because every word is given a score for being negative or positive and what we see at the end is an overall score for the text.*** <br>\n",
    "**What went wrong with the earlier review is that there were negative words that dominated the positive words, hence a low score positive but low.**"
   ]
  },
  {
   "cell_type": "code",
   "execution_count": 33,
   "metadata": {},
   "outputs": [
    {
     "data": {
      "text/plain": [
       "'go'"
      ]
     },
     "execution_count": 33,
     "metadata": {},
     "output_type": "execute_result"
    }
   ],
   "source": [
    "# Lemmatizing with Textblob\n",
    "from textblob import Word\n",
    "w = Word(\"go\")\n",
    "w.lemmatize(\"v\") # parts of speech to verb\n"
   ]
  },
  {
   "cell_type": "code",
   "execution_count": 34,
   "metadata": {},
   "outputs": [
    {
     "data": {
      "text/plain": [
       "WordList(['cats', 'dogs', 'octopodes'])"
      ]
     },
     "execution_count": 34,
     "metadata": {},
     "output_type": "execute_result"
    }
   ],
   "source": [
    "# pluralize/singulatize\n",
    "animals = TextBlob(\"cat dog octopus\")\n",
    "animals.words.pluralize()"
   ]
  },
  {
   "cell_type": "code",
   "execution_count": 35,
   "metadata": {},
   "outputs": [
    {
     "name": "stdout",
     "output_type": "stream",
     "text": [
      "I had a complex situation!\n"
     ]
    }
   ],
   "source": [
    "# spelling correction and spell check\n",
    "b = TextBlob(\"I hadz a komplex situation!\")\n",
    "print(b.correct())"
   ]
  },
  {
   "cell_type": "code",
   "execution_count": 36,
   "metadata": {},
   "outputs": [
    {
     "data": {
      "text/plain": [
       "[('Colonies', 0.9764150943396226), ('Polonaise', 0.02358490566037736)]"
      ]
     },
     "execution_count": 36,
     "metadata": {},
     "output_type": "execute_result"
    }
   ],
   "source": [
    "# returns close words that are correct\n",
    "w = Word('Kolonise')\n",
    "w.spellcheck()"
   ]
  },
  {
   "cell_type": "code",
   "execution_count": 40,
   "metadata": {},
   "outputs": [
    {
     "data": {
      "text/plain": [
       "TextBlob(\"祝你好运，先生！\")"
      ]
     },
     "execution_count": 40,
     "metadata": {},
     "output_type": "execute_result"
    }
   ],
   "source": [
    "# Translate!!\n",
    "en_blob = TextBlob(u'Good day, to you sir!.')\n",
    "en_blob.translate(to='zh-CN') # plug in es,in\n"
   ]
  },
  {
   "cell_type": "markdown",
   "metadata": {},
   "source": [
    "**There are other useful features , check this out for more : http://textblob.readthedocs.io/en/dev/index.html **"
   ]
  },
  {
   "cell_type": "code",
   "execution_count": 41,
   "metadata": {},
   "outputs": [
    {
     "data": {
      "text/plain": [
       "[WordList(['Now', 'is', 'better']),\n",
       " WordList(['is', 'better', 'than']),\n",
       " WordList(['better', 'than', 'never'])]"
      ]
     },
     "execution_count": 41,
     "metadata": {},
     "output_type": "execute_result"
    }
   ],
   "source": [
    "# More on n-gram models in the class\n",
    "blob = TextBlob(\"Now is better than never.\")\n",
    "blob.ngrams(n=3) # Trigram"
   ]
  },
  {
   "cell_type": "code",
   "execution_count": 42,
   "metadata": {},
   "outputs": [
    {
     "data": {
      "text/plain": [
       "[WordList(['Now', 'is']),\n",
       " WordList(['is', 'better']),\n",
       " WordList(['better', 'than']),\n",
       " WordList(['than', 'never'])]"
      ]
     },
     "execution_count": 42,
     "metadata": {},
     "output_type": "execute_result"
    }
   ],
   "source": [
    "blob = TextBlob(\"Now is better than never.\")\n",
    "blob.ngrams(n=2) # Bigram"
   ]
  },
  {
   "cell_type": "code",
   "execution_count": 43,
   "metadata": {},
   "outputs": [
    {
     "data": {
      "text/plain": [
       "[WordList(['Now']),\n",
       " WordList(['is']),\n",
       " WordList(['better']),\n",
       " WordList(['than']),\n",
       " WordList(['never'])]"
      ]
     },
     "execution_count": 43,
     "metadata": {},
     "output_type": "execute_result"
    }
   ],
   "source": [
    "blob = TextBlob(\"Now is better than never.\")\n",
    "blob.ngrams(n=1) # Unigram"
   ]
  }
 ],
 "metadata": {
  "kernelspec": {
   "display_name": "Python 3",
   "language": "python",
   "name": "python3"
  },
  "language_info": {
   "codemirror_mode": {
    "name": "ipython",
    "version": 3
   },
   "file_extension": ".py",
   "mimetype": "text/x-python",
   "name": "python",
   "nbconvert_exporter": "python",
   "pygments_lexer": "ipython3",
   "version": "3.5.5"
  },
  "widgets": {
   "state": {},
   "version": "1.1.2"
  }
 },
 "nbformat": 4,
 "nbformat_minor": 2
}
