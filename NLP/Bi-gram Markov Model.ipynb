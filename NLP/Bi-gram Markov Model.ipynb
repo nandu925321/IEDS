{
 "cells": [
  {
   "cell_type": "markdown",
   "metadata": {},
   "source": [
    "# Objective<br>\n",
    "<ol><li>Learn about POS tagging with Markov Models.</li>\n",
    "<li>Implement the model from scratch.</li>\n",
    "<li>Calculate the best sentence.</li></ol>\n",
    "** Before running this notebook please read NLP text book chapter 5.**"
   ]
  },
  {
   "cell_type": "markdown",
   "metadata": {},
   "source": [
    "<img src=\"ptag.png\">"
   ]
  },
  {
   "cell_type": "markdown",
   "metadata": {},
   "source": [
    "<img src = \"ptag2.png\"><br>\n",
    "** Images and content based on Martin Jurafsky  textbook and slides by Prof. Barbara Di Eugenio.** "
   ]
  },
  {
   "cell_type": "code",
   "execution_count": 1,
   "metadata": {},
   "outputs": [],
   "source": [
    "from nltk.tag.stanford import StanfordPOSTagger\n",
    "from nltk.tokenize import word_tokenize\n",
    "from nltk import pos_tag\n",
    "from nltk.tokenize import sent_tokenize\n",
    "import nltk"
   ]
  },
  {
   "cell_type": "code",
   "execution_count": 2,
   "metadata": {},
   "outputs": [],
   "source": [
    "# define my train corpus\n",
    "text = (\"I fed my cat. \"\n",
    "\t+\"My friend was interrogated by the fed. \"\n",
    "\t+\"Make sure he is a fed. \"\n",
    "\t+\"Water level raises always when the snow melts more than 3 feet. \"\n",
    "\t+\"raises is a good vacation destination. \"\n",
    "\t+\"Computer science is of great interest to me. \"\n",
    "\t+\"MNP bank raises interest rates again by 3 percent. \"\n",
    "\t+\"I thought this book might interest Simon. \"\n",
    "\t+\"Water level rises at the rate of 3 feet every month. \"\n",
    "\t+\"the ambassador rates a bulletproof car and a police escort \"\n",
    "\t+\"Jeff still rates as one of the nicest people I have ever met. \"\n",
    "\t+\"efforts were made to interest her in a purchase. \"\n",
    "\t+\"the merger is not contrary to the public interest. \"\n",
    "\t+\"the selfish pursuit of one's own welfare self interest. \"\n",
    "\t+\"holders of voting rights must disclose their interests. \"\n",
    "\t+\"Bring me 1 book on global warming. \"\n",
    "\n",
    "\t).lower()"
   ]
  },
  {
   "cell_type": "code",
   "execution_count": 3,
   "metadata": {},
   "outputs": [],
   "source": [
    "# declare my test sentence. In this example we make sure we are using the words in the train corpus.\n",
    "# This is done to ensure that there are no zero probabilities. We usually train with a larger corpus or use Laplace smoothing.\n",
    "test = \"fed raises interest rates again by 3 percent\".split(\" \")"
   ]
  },
  {
   "cell_type": "code",
   "execution_count": 4,
   "metadata": {},
   "outputs": [
    {
     "name": "stdout",
     "output_type": "stream",
     "text": [
      "151\n",
      "15\n"
     ]
    }
   ],
   "source": [
    "# Tokenizing and tagging\n",
    "tokens = word_tokenize(text)\n",
    "tagged_tokens = pos_tag(tokens)\n",
    "print(len(tagged_tokens))\n",
    "N = len(tagged_tokens)\n",
    "sentences = sent_tokenize(text)\n",
    "sentences = [s.replace(\".\",\" \") for s in sentences]\n",
    "tokenized_sentences = [nltk.word_tokenize(sentence) for sentence in sentences]\n",
    "tagged_sentences = [nltk.pos_tag(sentence) for sentence in tokenized_sentences]\n",
    "print(len(tagged_sentences))"
   ]
  },
  {
   "cell_type": "code",
   "execution_count": 5,
   "metadata": {},
   "outputs": [],
   "source": [
    "# Initialize start and end positions\n",
    "pos_dict = {}\n",
    "word_tags = {}\n",
    "transtition_tags = {}\n",
    "pos_dict[\"start\"] = 15\n",
    "pos_dict[\"end\"] = 15"
   ]
  },
  {
   "cell_type": "code",
   "execution_count": 6,
   "metadata": {},
   "outputs": [],
   "source": [
    "# Fill the word_tags dict\n",
    "for tags in tagged_tokens:\n",
    "\tif not tags[1] in pos_dict:\n",
    "\t\tpos_dict[tags[1]] = 0\n",
    "\tpos_dict[tags[1]]+=1\n",
    "\tif not tags[0]+\"|\"+tags[1] in word_tags:\n",
    "\t\tword_tags[tags[0]+\"|\"+tags[1]] = 0\n",
    "\tword_tags[tags[0]+\"|\"+tags[1]] += 1"
   ]
  },
  {
   "cell_type": "code",
   "execution_count": 7,
   "metadata": {},
   "outputs": [],
   "source": [
    "tags = list(pos_dict.keys())\n",
    "tags.remove(\"end\")\n",
    "tags.append(\"end\")\n"
   ]
  },
  {
   "cell_type": "code",
   "execution_count": 9,
   "metadata": {},
   "outputs": [],
   "source": [
    "# Fill the trasntition probs dictionary\n",
    "for sentence in tagged_sentences:\n",
    "\tfor t in range(len(sentence)):\n",
    "\t\tif t is 0:\n",
    "\t\t\tif not \"start|\"+sentence[t][1] in transtition_tags:\n",
    "\t\t\t\ttranstition_tags[\"start|\"+sentence[t][1]] = 0\n",
    "\t\t\ttranstition_tags[\"start|\"+sentence[t][1]]+=1\n",
    "\t\t\tcontinue\n",
    "\t\telif t is len(sentence)-1:\n",
    "\t\t\t\n",
    "\t\t\tif not sentence[t][1]+\"|end\" in transtition_tags:\n",
    "\t\t\t\ttranstition_tags[sentence[t][1]+\"|end\"] = 0\n",
    "\t\t\ttranstition_tags[sentence[t][1]+\"|end\"]+=1\n",
    "\t\t\tcontinue\n",
    "\n",
    "\t\tif not sentence[t-1][1]+\"|\"+sentence[t][1] in transtition_tags:\n",
    "\t\t\ttranstition_tags[sentence[t-1][1]+\"|\"+sentence[t][1]] = 0\n",
    "\t\ttranstition_tags[sentence[t-1][1]+\"|\"+sentence[t][1]] += 1"
   ]
  },
  {
   "cell_type": "code",
   "execution_count": 10,
   "metadata": {},
   "outputs": [],
   "source": [
    "# Fill Emission Probs dictionary and write to file\n",
    "emission_probs = {}\n",
    "with open(\"emission_probs.txt\", \"w\") as file:\n",
    "\tfor key,value in word_tags.items():\n",
    "\t\temission_probs [key] = float(value)/pos_dict[key.split(\"|\")[1]]\n",
    "\t\tfile.write(key+\" : \"+str(emission_probs[key])+\"\\n\")"
   ]
  },
  {
   "cell_type": "code",
   "execution_count": null,
   "metadata": {},
   "outputs": [],
   "source": [
    "## Fill and write transtition probs into a file\n",
    "transtition_probs = {}\n",
    "with open(\"transtition_probs.txt\",'w') as file:\n",
    "\tfor key,value in transtition_tags.items():\n",
    "\t\ttranstition_probs[key] = float(value)/pos_dict[key.split(\"|\")[0]]\n",
    "\t\tfile.write(key+\" : \"+str(transtition_probs[key])+\"\\n\")"
   ]
  },
  {
   "cell_type": "markdown",
   "metadata": {},
   "source": [
    "# Excercise: <br>\n",
    "** You should now have the emission and transtion probabilities in the files. According to the formula discussed above calculate all possible taggings and give the best sentence and its probability. **\n"
   ]
  }
 ],
 "metadata": {
  "kernelspec": {
   "display_name": "Python 3",
   "language": "python",
   "name": "python3"
  },
  "language_info": {
   "codemirror_mode": {
    "name": "ipython",
    "version": 3
   },
   "file_extension": ".py",
   "mimetype": "text/x-python",
   "name": "python",
   "nbconvert_exporter": "python",
   "pygments_lexer": "ipython3",
   "version": "3.5.5"
  },
  "widgets": {
   "state": {},
   "version": "1.1.2"
  }
 },
 "nbformat": 4,
 "nbformat_minor": 2
}
