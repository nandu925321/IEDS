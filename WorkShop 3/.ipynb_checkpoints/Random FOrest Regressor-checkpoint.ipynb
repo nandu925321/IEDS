{
 "cells": [
  {
   "cell_type": "code",
   "execution_count": 5,
   "metadata": {
    "collapsed": false
   },
   "outputs": [
    {
     "name": "stdout",
     "output_type": "stream",
     "text": [
      "(506, 13)\n",
      "(506,)\n"
     ]
    }
   ],
   "source": [
    "# Data Set used is the Boston Housing Prices data set.\n",
    "from sklearn.datasets import load_boston\n",
    "boston = load_boston()\n",
    "X = boston.data\n",
    "y = boston.target\n",
    "\n",
    "print(X.shape)\n",
    "print(y.shape)\n",
    "\n",
    "from sklearn.model_selection import train_test_split\n",
    "X_train, X_test, y_train, y_test = train_test_split(boston.data,boston.target,random_state=1)"
   ]
  },
  {
   "cell_type": "code",
   "execution_count": 6,
   "metadata": {
    "collapsed": false
   },
   "outputs": [
    {
     "name": "stderr",
     "output_type": "stream",
     "text": [
      "[Parallel(n_jobs=6)]: Done  10 out of  10 | elapsed:    0.0s remaining:    0.0s\n",
      "[Parallel(n_jobs=6)]: Done  10 out of  10 | elapsed:    0.0s finished\n",
      "D:\\Anaconda\\lib\\site-packages\\sklearn\\ensemble\\forest.py:720: UserWarning: Some inputs do not have OOB scores. This probably means too few trees were used to compute any reliable oob estimates.\n",
      "  warn(\"Some inputs do not have OOB scores. \"\n",
      "[Parallel(n_jobs=6)]: Done  20 out of  20 | elapsed:    0.0s finished\n",
      "[Parallel(n_jobs=6)]: Done  38 tasks      | elapsed:    0.0s\n",
      "[Parallel(n_jobs=6)]: Done  50 out of  50 | elapsed:    0.0s finished\n",
      "[Parallel(n_jobs=6)]: Done  38 tasks      | elapsed:    0.0s\n",
      "[Parallel(n_jobs=6)]: Done  80 out of  80 | elapsed:    0.0s finished\n",
      "[Parallel(n_jobs=6)]: Done  38 tasks      | elapsed:    0.0s\n",
      "[Parallel(n_jobs=6)]: Done 100 out of 100 | elapsed:    0.0s finished\n",
      "[Parallel(n_jobs=6)]: Done  38 tasks      | elapsed:    0.0s\n",
      "[Parallel(n_jobs=6)]: Done 188 tasks      | elapsed:    0.1s\n",
      "[Parallel(n_jobs=6)]: Done 200 out of 200 | elapsed:    0.1s finished\n"
     ]
    }
   ],
   "source": [
    "# Create the model and fit the data\n",
    "from sklearn.ensemble import RandomForestRegressor as RFR\n",
    "\n",
    "\n",
    "\n",
    "n_estimators = [10,20,50,80,100,200]\n",
    "oob_errors = []\n",
    "\n",
    "\n",
    "\n",
    "for n in n_estimators:\n",
    "    rfr = RFR(n_estimators=n, criterion=\"mse\", max_depth=None, min_samples_split=2, min_samples_leaf=1,\n",
    "                      min_weight_fraction_leaf=0.0, max_features=\"auto\", max_leaf_nodes=None, min_impurity_decrease=0.0,\n",
    "                      min_impurity_split=None,\n",
    "                      bootstrap=True, oob_score=True, n_jobs=6, random_state=1, verbose=1, warm_start=False)\n",
    "\n",
    "    rfr.fit(X_train,y_train)\n",
    "    #y_pred = bag_reg.predict(X_test)\n",
    "    oob_errors.append(rfr.oob_score_)\n",
    "    "
   ]
  },
  {
   "cell_type": "code",
   "execution_count": 7,
   "metadata": {
    "collapsed": false
   },
   "outputs": [
    {
     "name": "stdout",
     "output_type": "stream",
     "text": [
      "[0.70841974028923604, 0.82493356091105707, 0.8484424338944655, 0.85443738148805037, 0.85564617748242577, 0.85867445504501738]\n"
     ]
    }
   ],
   "source": [
    "print(oob_errors)"
   ]
  },
  {
   "cell_type": "code",
   "execution_count": 8,
   "metadata": {
    "collapsed": false
   },
   "outputs": [
    {
     "data": {
      "image/png": "[encoded data removed]",
      "text/plain": [
       "<matplotlib.figure.Figure at 0x295e5ecfcc0>"
      ]
     },
     "metadata": {},
     "output_type": "display_data"
    }
   ],
   "source": [
    "# plot the results\n",
    "import matplotlib.pyplot as plt\n",
    "%matplotlib inline\n",
    "plt.plot(n_estimators,oob_errors)\n",
    "plt.xlabel(\"Number of estimators\")\n",
    "plt.ylabel(\"OOB Score\")\n",
    "plt.show()\n"
   ]
  }
 ],
 "metadata": {
  "kernelspec": {
   "display_name": "Python 3",
   "language": "python",
   "name": "python3"
  },
  "language_info": {
   "codemirror_mode": {
    "name": "ipython",
    "version": 3
   },
   "file_extension": ".py",
   "mimetype": "text/x-python",
   "name": "python",
   "nbconvert_exporter": "python",
   "pygments_lexer": "ipython3",
   "version": "3.6.0"
  }
 },
 "nbformat": 4,
 "nbformat_minor": 2
}
