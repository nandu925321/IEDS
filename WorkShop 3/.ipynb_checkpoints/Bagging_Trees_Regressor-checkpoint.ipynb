{
 "cells": [
  {
   "cell_type": "markdown",
   "metadata": {},
   "source": [
    "# What is Bootstrapping ?\n",
    "\n",
    "Bootstrapping a statistical technique for resampling the data points to estimate or predict a value."
   ]
  },
  {
   "cell_type": "markdown",
   "metadata": {},
   "source": [
    "![BootStrapping](img/bootstrap_concept.png)"
   ]
  },
  {
   "cell_type": "markdown",
   "metadata": {},
   "source": [
    "# Why is it useful?\n",
    "\n",
    "1. **To estimate a statistic of a variable like mean and data available is limited.**\n",
    "2. **To reduce the overall variance.**\n",
    "\n",
    "![BootStrapping](img/BootStrap.png)\n"
   ]
  },
  {
   "cell_type": "markdown",
   "metadata": {},
   "source": [
    "# Bagging for Regression:\n",
    "\n",
    "1. ** Build models on bootstrapped samples and average the results, this way even if the trees are deep and have low bias due to the aggregation the over all variance is low (Or is it? . More on this soon.).**\n"
   ]
  },
  {
   "cell_type": "code",
   "execution_count": 13,
   "metadata": {
    "collapsed": false
   },
   "outputs": [
    {
     "name": "stdout",
     "output_type": "stream",
     "text": [
      "(506, 13)\n",
      "(506,)\n"
     ]
    }
   ],
   "source": [
    "# Data Set used is the Boston Housing Prices data set.\n",
    "from sklearn.datasets import load_boston\n",
    "boston = load_boston()\n",
    "X = boston.data\n",
    "y = boston.target\n",
    "\n",
    "print(X.shape)\n",
    "print(y.shape)\n",
    "\n",
    "from sklearn.model_selection import train_test_split\n",
    "X_train, X_test, y_train, y_test = train_test_split(boston.data,boston.target,random_state=1)"
   ]
  },
  {
   "cell_type": "code",
   "execution_count": 14,
   "metadata": {
    "collapsed": false
   },
   "outputs": [
    {
     "name": "stderr",
     "output_type": "stream",
     "text": [
      "[Parallel(n_jobs=6)]: Done   2 out of   6 | elapsed:    0.9s remaining:    1.8s\n",
      "[Parallel(n_jobs=6)]: Done   6 out of   6 | elapsed:    1.7s finished\n",
      "D:\\Anaconda\\lib\\site-packages\\sklearn\\ensemble\\bagging.py:987: UserWarning: Some inputs do not have OOB scores. This probably means too few estimators were used to compute any reliable oob estimates.\n",
      "  warn(\"Some inputs do not have OOB scores. \"\n",
      "[Parallel(n_jobs=6)]: Done   2 out of   6 | elapsed:    0.7s remaining:    1.4s\n",
      "[Parallel(n_jobs=6)]: Done   6 out of   6 | elapsed:    1.5s finished\n",
      "[Parallel(n_jobs=6)]: Done   2 out of   6 | elapsed:    1.1s remaining:    2.3s\n",
      "[Parallel(n_jobs=6)]: Done   6 out of   6 | elapsed:    2.0s finished\n",
      "[Parallel(n_jobs=6)]: Done   2 out of   6 | elapsed:    0.7s remaining:    1.5s\n",
      "[Parallel(n_jobs=6)]: Done   6 out of   6 | elapsed:    1.4s finished\n",
      "[Parallel(n_jobs=6)]: Done   2 out of   6 | elapsed:    0.7s remaining:    1.4s\n",
      "[Parallel(n_jobs=6)]: Done   6 out of   6 | elapsed:    1.4s finished\n",
      "[Parallel(n_jobs=6)]: Done   2 out of   6 | elapsed:    0.7s remaining:    1.5s\n",
      "[Parallel(n_jobs=6)]: Done   6 out of   6 | elapsed:    1.4s finished\n"
     ]
    }
   ],
   "source": [
    "# Create the model and fit the data\n",
    "from sklearn.ensemble import BaggingRegressor\n",
    "\n",
    "n_estimators = [10,20,50,80,100,200]\n",
    "oob_errors = []\n",
    "\n",
    "\n",
    "for n in n_estimators:\n",
    "    bag_reg = BaggingRegressor(base_estimator=None, n_estimators=n,\n",
    "                     max_samples=1.0, max_features=1.0, bootstrap=True,\n",
    "                     bootstrap_features=False, oob_score=True, \n",
    "                     warm_start=False, n_jobs=6, random_state=1, verbose=1)\n",
    "    bag_reg.fit(X_train,y_train)\n",
    "    #y_pred = bag_reg.predict(X_test)\n",
    "    oob_errors.append(bag_reg.oob_score_)\n",
    "    \n",
    "    "
   ]
  },
  {
   "cell_type": "code",
   "execution_count": 15,
   "metadata": {
    "collapsed": false
   },
   "outputs": [
    {
     "name": "stdout",
     "output_type": "stream",
     "text": [
      "[0.69645378098575139, 0.82251815788836513, 0.85406999268890416, 0.85838153930365402, 0.86024178177013388, 0.86082849035246689]\n"
     ]
    }
   ],
   "source": [
    "print(oob_errors)\n"
   ]
  },
  {
   "cell_type": "code",
   "execution_count": 16,
   "metadata": {
    "collapsed": false
   },
   "outputs": [
    {
     "data": {
      "image/png": "[encoded data removed]",
      "text/plain": [
       "<matplotlib.figure.Figure at 0x1fe91facb70>"
      ]
     },
     "metadata": {},
     "output_type": "display_data"
    }
   ],
   "source": [
    "# plot the results\n",
    "import matplotlib.pyplot as plt\n",
    "%matplotlib inline\n",
    "plt.plot(n_estimators,oob_errors)\n",
    "plt.xlabel(\"Number of estimators\")\n",
    "plt.ylabel(\"OOB Score\")\n",
    "plt.show()\n",
    "\n"
   ]
  },
  {
   "cell_type": "markdown",
   "metadata": {},
   "source": [
    "# What is OOB score?\n",
    "\n",
    "** Recall that the each bootstrapped sample leaves out 1/3 of the data points approximately , using the points that were not included in the sample we can predict the error in the bagging approach.**"
   ]
  },
  {
   "cell_type": "code",
   "execution_count": 17,
   "metadata": {
    "collapsed": false
   },
   "outputs": [
    {
     "name": "stdout",
     "output_type": "stream",
     "text": [
      "[  2.63027457e-02   5.52186346e-04   3.13044295e-03   7.74227044e-04\n",
      "   6.10388453e-02   5.76525082e-01   9.21464552e-03   7.51136125e-02\n",
      "   1.32728234e-02   1.40715803e-02   7.66761697e-03   6.21954862e-03\n",
      "   2.06116643e-01]\n"
     ]
    }
   ],
   "source": [
    "from sklearn.tree import DecisionTreeRegressor as DT\n",
    "dt = DT()\n",
    "dt.fit(X,y)\n",
    "print(dt.feature_importances_)"
   ]
  },
  {
   "cell_type": "code",
   "execution_count": 18,
   "metadata": {
    "collapsed": false
   },
   "outputs": [
    {
     "name": "stdout",
     "output_type": "stream",
     "text": [
      "(4897, 12)\n"
     ]
    }
   ],
   "source": [
    "# Example 2 White wine data set.\n",
    "\n",
    "import pandas as pd\n",
    "data = pd.read_csv(\"winequality-white1.csv\")\n",
    "print(data.shape)\n",
    "y = data.iloc[:,-1]\n",
    "X = data.iloc[:, :-1]\n",
    "\n",
    "#print(y)\n"
   ]
  },
  {
   "cell_type": "code",
   "execution_count": 19,
   "metadata": {
    "collapsed": false
   },
   "outputs": [
    {
     "name": "stdout",
     "output_type": "stream",
     "text": [
      "(4897, 11)\n",
      "(4897,)\n"
     ]
    }
   ],
   "source": [
    "print(X.shape)\n",
    "print(y.shape)"
   ]
  },
  {
   "cell_type": "code",
   "execution_count": 20,
   "metadata": {
    "collapsed": true
   },
   "outputs": [],
   "source": [
    "from sklearn.model_selection import train_test_split\n",
    "X_train, X_test, y_train, y_test = train_test_split(X,y,random_state=1)"
   ]
  },
  {
   "cell_type": "code",
   "execution_count": 21,
   "metadata": {
    "collapsed": false
   },
   "outputs": [
    {
     "name": "stderr",
     "output_type": "stream",
     "text": [
      "[Parallel(n_jobs=6)]: Done   2 out of   6 | elapsed:    0.8s remaining:    1.7s\n",
      "[Parallel(n_jobs=6)]: Done   6 out of   6 | elapsed:    1.6s finished\n",
      "D:\\Anaconda\\lib\\site-packages\\sklearn\\ensemble\\bagging.py:987: UserWarning: Some inputs do not have OOB scores. This probably means too few estimators were used to compute any reliable oob estimates.\n",
      "  warn(\"Some inputs do not have OOB scores. \"\n",
      "[Parallel(n_jobs=6)]: Done   2 out of   6 | elapsed:    0.7s remaining:    1.6s\n",
      "[Parallel(n_jobs=6)]: Done   6 out of   6 | elapsed:    1.4s finished\n",
      "[Parallel(n_jobs=6)]: Done   2 out of   6 | elapsed:    0.8s remaining:    1.7s\n",
      "[Parallel(n_jobs=6)]: Done   6 out of   6 | elapsed:    1.5s finished\n",
      "[Parallel(n_jobs=6)]: Done   2 out of   6 | elapsed:    0.9s remaining:    1.9s\n",
      "[Parallel(n_jobs=6)]: Done   6 out of   6 | elapsed:    1.6s finished\n",
      "[Parallel(n_jobs=6)]: Done   2 out of   6 | elapsed:    1.0s remaining:    2.0s\n",
      "[Parallel(n_jobs=6)]: Done   6 out of   6 | elapsed:    1.7s finished\n",
      "[Parallel(n_jobs=6)]: Done   2 out of   6 | elapsed:    1.3s remaining:    2.7s\n",
      "[Parallel(n_jobs=6)]: Done   6 out of   6 | elapsed:    2.1s finished\n",
      "[Parallel(n_jobs=6)]: Done   2 out of   6 | elapsed:    2.1s remaining:    4.4s\n",
      "[Parallel(n_jobs=6)]: Done   6 out of   6 | elapsed:    2.9s finished\n",
      "[Parallel(n_jobs=6)]: Done   2 out of   6 | elapsed:    4.2s remaining:    8.5s\n",
      "[Parallel(n_jobs=6)]: Done   6 out of   6 | elapsed:    5.0s finished\n"
     ]
    }
   ],
   "source": [
    "# Create the model and fit the data\n",
    "from sklearn.ensemble import BaggingRegressor\n",
    "\n",
    "n_estimators = [10,20,50,80,100,200,400,1000]\n",
    "oob_errors = []\n",
    "\n",
    "\n",
    "for n in n_estimators:\n",
    "    bag_reg = BaggingRegressor(base_estimator=None, n_estimators=n,\n",
    "                     max_samples=1.0, max_features=1.0, bootstrap=True,\n",
    "                     bootstrap_features=False, oob_score=True, \n",
    "                     warm_start=False, n_jobs=6, random_state=1, verbose=1)\n",
    "    bag_reg.fit(X_train,y_train)\n",
    "    #y_pred = bag_reg.predict(X_test)\n",
    "    oob_errors.append(bag_reg.oob_score_)\n",
    "    \n",
    "    "
   ]
  },
  {
   "cell_type": "code",
   "execution_count": 22,
   "metadata": {
    "collapsed": false
   },
   "outputs": [
    {
     "name": "stdout",
     "output_type": "stream",
     "text": [
      "[0.1352669435433157, 0.90147357609940637, 0.9157081906390826, 0.91861369855931463, 0.91929889438773893, 0.92048033742005131, 0.92074770136267392, 0.92134113206650425]\n"
     ]
    }
   ],
   "source": [
    "print(oob_errors)\n"
   ]
  },
  {
   "cell_type": "code",
   "execution_count": 24,
   "metadata": {
    "collapsed": false
   },
   "outputs": [
    {
     "data": {
      "image/png": "[encoded data removed]",
      "text/plain": [
       "<matplotlib.figure.Figure at 0x1fe910b1390>"
      ]
     },
     "metadata": {},
     "output_type": "display_data"
    }
   ],
   "source": [
    "# plot the results\n",
    "import matplotlib.pyplot as plt\n",
    "%matplotlib inline\n",
    "plt.plot(n_estimators,oob_errors)\n",
    "plt.xlabel(\"Number of estimators\")\n",
    "plt.ylabel(\"OOB Score\")\n",
    "plt.show()\n",
    "\n"
   ]
  }
 ],
 "metadata": {
  "kernelspec": {
   "display_name": "Python 3",
   "language": "python",
   "name": "python3"
  },
  "language_info": {
   "codemirror_mode": {
    "name": "ipython",
    "version": 3
   },
   "file_extension": ".py",
   "mimetype": "text/x-python",
   "name": "python",
   "nbconvert_exporter": "python",
   "pygments_lexer": "ipython3",
   "version": "3.6.0"
  }
 },
 "nbformat": 4,
 "nbformat_minor": 2
}
