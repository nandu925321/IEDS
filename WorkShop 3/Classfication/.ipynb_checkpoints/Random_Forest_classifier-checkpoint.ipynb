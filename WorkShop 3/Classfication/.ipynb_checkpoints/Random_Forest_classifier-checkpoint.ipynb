{
 "cells": [
  {
   "cell_type": "code",
   "execution_count": 1,
   "metadata": {
    "collapsed": false
   },
   "outputs": [
    {
     "name": "stdout",
     "output_type": "stream",
     "text": [
      "(4897, 11)\n",
      "(4897,)\n"
     ]
    }
   ],
   "source": [
    "import pandas as pd\n",
    "data = pd.read_csv(\"winequality-white1.csv\")\n",
    "y = data.iloc[:,-1]\n",
    "X = data.iloc[:, :-1]\n",
    "print(X.shape)\n",
    "print(y.shape)\n"
   ]
  },
  {
   "cell_type": "code",
   "execution_count": 2,
   "metadata": {
    "collapsed": false
   },
   "outputs": [
    {
     "name": "stdout",
     "output_type": "stream",
     "text": [
      "Feature ranking:\n",
      "1. feature 10 (0.130114)\n",
      "2. feature 1 (0.100371)\n",
      "3. feature 7 (0.091805)\n",
      "4. feature 5 (0.090274)\n",
      "5. feature 6 (0.087413)\n",
      "6. feature 8 (0.085285)\n",
      "7. feature 3 (0.084695)\n",
      "8. feature 2 (0.084166)\n",
      "9. feature 4 (0.082988)\n",
      "10. feature 9 (0.082604)\n",
      "11. feature 0 (0.080284)\n"
     ]
    },
    {
     "data": {
      "image/png": "[encoded data removed]",
      "text/plain": [
       "<matplotlib.figure.Figure at 0x261d9739320>"
      ]
     },
     "metadata": {},
     "output_type": "display_data"
    }
   ],
   "source": [
    "# print out the important features \n",
    "import numpy as np\n",
    "import matplotlib.pyplot as plt\n",
    "from sklearn.ensemble import ExtraTreesClassifier\n",
    "\n",
    "forest = ExtraTreesClassifier(n_estimators=250,\n",
    "                              random_state=0)\n",
    "\n",
    "forest.fit(X, y)\n",
    "importances = forest.feature_importances_\n",
    "std = np.std([tree.feature_importances_ for tree in forest.estimators_],\n",
    "             axis=0)\n",
    "indices = np.argsort(importances)[::-1]\n",
    "\n",
    "# Print the feature ranking\n",
    "print(\"Feature ranking:\")\n",
    "\n",
    "for f in range(X.shape[1]):\n",
    "    print(\"%d. feature %d (%f)\" % (f + 1, indices[f], importances[indices[f]]))\n",
    "\n",
    "# Plot the feature importances of the forest\n",
    "plt.figure()\n",
    "plt.title(\"Feature importances\")\n",
    "plt.bar(range(X.shape[1]), importances[indices],\n",
    "       color=\"r\", yerr=std[indices], align=\"center\")\n",
    "plt.xticks(range(X.shape[1]), indices)\n",
    "plt.xlim([-1, X.shape[1]])\n",
    "plt.show()"
   ]
  },
  {
   "cell_type": "code",
   "execution_count": 3,
   "metadata": {
    "collapsed": true
   },
   "outputs": [],
   "source": [
    "from sklearn.model_selection import train_test_split\n",
    "X_train, X_test, y_train, y_test = train_test_split(X,y,random_state=1)"
   ]
  },
  {
   "cell_type": "code",
   "execution_count": 4,
   "metadata": {
    "collapsed": false
   },
   "outputs": [
    {
     "name": "stderr",
     "output_type": "stream",
     "text": [
      "[Parallel(n_jobs=6)]: Done   2 out of   6 | elapsed:    0.7s remaining:    1.5s\n",
      "[Parallel(n_jobs=6)]: Done   6 out of   6 | elapsed:    1.3s finished\n",
      "D:\\Anaconda\\lib\\site-packages\\sklearn\\ensemble\\bagging.py:605: UserWarning: Some inputs do not have OOB scores. This probably means too few estimators were used to compute any reliable oob estimates.\n",
      "  warn(\"Some inputs do not have OOB scores. \"\n",
      "D:\\Anaconda\\lib\\site-packages\\sklearn\\ensemble\\bagging.py:610: RuntimeWarning: invalid value encountered in true_divide\n",
      "  predictions.sum(axis=1)[:, np.newaxis])\n",
      "[Parallel(n_jobs=6)]: Done   2 out of   6 | elapsed:    0.7s remaining:    1.5s\n",
      "[Parallel(n_jobs=6)]: Done   6 out of   6 | elapsed:    1.4s finished\n",
      "[Parallel(n_jobs=6)]: Done   2 out of   6 | elapsed:    1.1s remaining:    2.2s\n",
      "[Parallel(n_jobs=6)]: Done   6 out of   6 | elapsed:    1.8s finished\n",
      "[Parallel(n_jobs=6)]: Done   2 out of   6 | elapsed:    0.8s remaining:    1.7s\n",
      "[Parallel(n_jobs=6)]: Done   6 out of   6 | elapsed:    1.6s finished\n",
      "[Parallel(n_jobs=6)]: Done   2 out of   6 | elapsed:    1.1s remaining:    2.2s\n",
      "[Parallel(n_jobs=6)]: Done   6 out of   6 | elapsed:    2.1s finished\n",
      "[Parallel(n_jobs=6)]: Done   2 out of   6 | elapsed:    1.1s remaining:    2.3s\n",
      "[Parallel(n_jobs=6)]: Done   6 out of   6 | elapsed:    1.8s finished\n",
      "[Parallel(n_jobs=6)]: Done   2 out of   6 | elapsed:    1.3s remaining:    2.7s\n",
      "[Parallel(n_jobs=6)]: Done   6 out of   6 | elapsed:    2.1s finished\n",
      "[Parallel(n_jobs=6)]: Done   2 out of   6 | elapsed:    1.6s remaining:    3.3s\n",
      "[Parallel(n_jobs=6)]: Done   6 out of   6 | elapsed:    2.6s finished\n"
     ]
    }
   ],
   "source": [
    "# Create the model and fit the data\n",
    "from sklearn.ensemble import BaggingClassifier\n",
    "\n",
    "n_estimators = [10,20,30,50,80,100,120,150]\n",
    "oob_errors = []\n",
    "\n",
    "\n",
    "for n in n_estimators:\n",
    "    bag_cls = BaggingClassifier(base_estimator=None, n_estimators=n,\n",
    "                     max_samples=1.0, max_features=1.0, bootstrap=True,\n",
    "                     bootstrap_features=False, oob_score=True, \n",
    "                     warm_start=False, n_jobs=6, random_state=1, verbose=1)\n",
    "    bag_cls.fit(X_train,y_train)\n",
    "    #y_pred = bag_reg.predict(X_test)\n",
    "    oob_errors.append(bag_cls.oob_score_)\n"
   ]
  },
  {
   "cell_type": "code",
   "execution_count": 5,
   "metadata": {
    "collapsed": false
   },
   "outputs": [
    {
     "name": "stdout",
     "output_type": "stream",
     "text": [
      "[0.58006535947712423, 0.6342592592592593, 0.64460784313725494, 0.65931372549019607, 0.66666666666666663, 0.66122004357298469, 0.66557734204793029, 0.66612200435729851]\n"
     ]
    }
   ],
   "source": [
    "import numpy as np\n",
    "print(oob_errors)\n"
   ]
  },
  {
   "cell_type": "code",
   "execution_count": 6,
   "metadata": {
    "collapsed": false
   },
   "outputs": [
    {
     "data": {
      "image/png": "[encoded data removed]",
      "text/plain": [
       "<matplotlib.figure.Figure at 0x261e5a0aac8>"
      ]
     },
     "metadata": {},
     "output_type": "display_data"
    }
   ],
   "source": [
    "# plot the results\n",
    "import matplotlib.pyplot as plt\n",
    "%matplotlib inline\n",
    "plt.plot(n_estimators,oob_errors)\n",
    "plt.xlabel(\"Number of estimators\")\n",
    "plt.ylabel(\"OOB Score\")\n",
    "plt.show()\n",
    "\n"
   ]
  },
  {
   "cell_type": "code",
   "execution_count": 7,
   "metadata": {
    "collapsed": false
   },
   "outputs": [
    {
     "name": "stderr",
     "output_type": "stream",
     "text": [
      "[Parallel(n_jobs=6)]: Done  10 out of  10 | elapsed:    0.0s remaining:    0.0s\n",
      "[Parallel(n_jobs=6)]: Done  10 out of  10 | elapsed:    0.0s finished\n",
      "D:\\Anaconda\\lib\\site-packages\\sklearn\\ensemble\\forest.py:451: UserWarning: Some inputs do not have OOB scores. This probably means too few trees were used to compute any reliable oob estimates.\n",
      "  warn(\"Some inputs do not have OOB scores. \"\n",
      "D:\\Anaconda\\lib\\site-packages\\sklearn\\ensemble\\forest.py:456: RuntimeWarning: invalid value encountered in true_divide\n",
      "  predictions[k].sum(axis=1)[:, np.newaxis])\n",
      "[Parallel(n_jobs=6)]: Done  20 out of  20 | elapsed:    0.0s finished\n",
      "[Parallel(n_jobs=6)]: Done  30 out of  30 | elapsed:    0.0s finished\n",
      "[Parallel(n_jobs=6)]: Done  38 tasks      | elapsed:    0.0s\n",
      "[Parallel(n_jobs=6)]: Done  50 out of  50 | elapsed:    0.1s finished\n",
      "[Parallel(n_jobs=6)]: Done  38 tasks      | elapsed:    0.0s\n",
      "[Parallel(n_jobs=6)]: Done  80 out of  80 | elapsed:    0.1s finished\n",
      "[Parallel(n_jobs=6)]: Done  38 tasks      | elapsed:    0.0s\n",
      "[Parallel(n_jobs=6)]: Done 100 out of 100 | elapsed:    0.1s finished\n",
      "[Parallel(n_jobs=6)]: Done  38 tasks      | elapsed:    0.0s\n",
      "[Parallel(n_jobs=6)]: Done 120 out of 120 | elapsed:    0.1s finished\n",
      "[Parallel(n_jobs=6)]: Done  38 tasks      | elapsed:    0.0s\n",
      "[Parallel(n_jobs=6)]: Done 150 out of 150 | elapsed:    0.3s finished\n"
     ]
    }
   ],
   "source": [
    "from  sklearn.ensemble import RandomForestClassifier as RFC\n",
    "oob_rfc = []\n",
    "n_estimators = [10,20,30,50,80,100,120,150]\n",
    "for n in n_estimators:\n",
    "    rfc = RFC(n_estimators=n, criterion=\"gini\",max_depth=None, min_samples_split=2, \n",
    "        min_weight_fraction_leaf=0.0,max_leaf_nodes=None, min_impurity_decrease=0.0,\n",
    "        min_impurity_split=None,bootstrap=True,oob_score=True, n_jobs=6, \n",
    "                                        verbose=1, warm_start=False, class_weight=None)\n",
    "    rfc.fit(X_train,y_train)\n",
    "    oob_rfc.append(rfc.oob_score_)\n",
    "    \n",
    "\n",
    "\n"
   ]
  },
  {
   "cell_type": "code",
   "execution_count": 8,
   "metadata": {
    "collapsed": false
   },
   "outputs": [
    {
     "name": "stdout",
     "output_type": "stream",
     "text": [
      "[0.58197167755991286, 0.625, 0.63916122004357301, 0.65795206971677556, 0.66857298474945537, 0.66339869281045749, 0.670479302832244, 0.67456427015250542]\n"
     ]
    }
   ],
   "source": [
    "\n",
    "print(oob_rfc)\n"
   ]
  },
  {
   "cell_type": "code",
   "execution_count": 9,
   "metadata": {
    "collapsed": false
   },
   "outputs": [
    {
     "data": {
      "image/png": "[encoded data removed]",
      "text/plain": [
       "<matplotlib.figure.Figure at 0x261e595d208>"
      ]
     },
     "metadata": {},
     "output_type": "display_data"
    }
   ],
   "source": [
    "# plot the results\n",
    "import matplotlib.pyplot as plt\n",
    "%matplotlib inline\n",
    "plt.plot(n_estimators,oob_rfc)\n",
    "plt.xlabel(\"Number of estimators\")\n",
    "plt.ylabel(\"OOB Score\")\n",
    "plt.show()\n",
    "\n"
   ]
  }
 ],
 "metadata": {
  "kernelspec": {
   "display_name": "Python 3",
   "language": "python",
   "name": "python3"
  },
  "language_info": {
   "codemirror_mode": {
    "name": "ipython",
    "version": 3
   },
   "file_extension": ".py",
   "mimetype": "text/x-python",
   "name": "python",
   "nbconvert_exporter": "python",
   "pygments_lexer": "ipython3",
   "version": "3.6.0"
  }
 },
 "nbformat": 4,
 "nbformat_minor": 2
}
