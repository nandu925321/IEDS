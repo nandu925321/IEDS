{
 "cells": [
  {
   "cell_type": "markdown",
   "metadata": {},
   "source": [
    "# Bagging Tree Classifier"
   ]
  },
  {
   "cell_type": "code",
   "execution_count": 1,
   "metadata": {
    "collapsed": false
   },
   "outputs": [
    {
     "name": "stdout",
     "output_type": "stream",
     "text": [
      "(569, 30) (569,)\n"
     ]
    }
   ],
   "source": [
    "# Load Breast Cancer Data Set\n",
    "from sklearn.datasets import load_breast_cancer\n",
    "data = load_breast_cancer()\n",
    "X = data.data\n",
    "y = data.target\n",
    "print(X.shape,y.shape)"
   ]
  },
  {
   "cell_type": "code",
   "execution_count": 2,
   "metadata": {
    "collapsed": false
   },
   "outputs": [
    {
     "name": "stdout",
     "output_type": "stream",
     "text": [
      "Feature ranking:\n",
      "1. feature 27 (0.123613)\n",
      "2. feature 20 (0.102393)\n",
      "3. feature 23 (0.090718)\n",
      "4. feature 22 (0.073362)\n",
      "5. feature 7 (0.069074)\n",
      "6. feature 0 (0.057682)\n",
      "7. feature 2 (0.057616)\n",
      "8. feature 6 (0.055987)\n",
      "9. feature 3 (0.052329)\n",
      "10. feature 26 (0.042248)\n",
      "11. feature 25 (0.027331)\n",
      "12. feature 21 (0.024081)\n",
      "13. feature 1 (0.023992)\n",
      "14. feature 13 (0.023794)\n",
      "15. feature 12 (0.021898)\n",
      "16. feature 24 (0.019354)\n",
      "17. feature 10 (0.017798)\n",
      "18. feature 5 (0.017481)\n",
      "19. feature 28 (0.014939)\n",
      "20. feature 4 (0.011544)\n",
      "21. feature 29 (0.010375)\n",
      "22. feature 17 (0.009089)\n",
      "23. feature 16 (0.008688)\n",
      "24. feature 15 (0.007596)\n",
      "25. feature 8 (0.007226)\n",
      "26. feature 9 (0.006757)\n",
      "27. feature 18 (0.006067)\n",
      "28. feature 19 (0.005820)\n",
      "29. feature 14 (0.005708)\n",
      "30. feature 11 (0.005441)\n"
     ]
    },
    {
     "data": {
      "image/png": "[encoded data removed]",
      "text/plain": [
       "<matplotlib.figure.Figure at 0x262825e8f28>"
      ]
     },
     "metadata": {},
     "output_type": "display_data"
    }
   ],
   "source": [
    "# print out the important features \n",
    "import numpy as np\n",
    "import matplotlib.pyplot as plt\n",
    "from sklearn.ensemble import ExtraTreesClassifier\n",
    "\n",
    "forest = ExtraTreesClassifier(n_estimators=250,\n",
    "                              random_state=0)\n",
    "\n",
    "forest.fit(X, y)\n",
    "importances = forest.feature_importances_\n",
    "std = np.std([tree.feature_importances_ for tree in forest.estimators_],\n",
    "             axis=0)\n",
    "indices = np.argsort(importances)[::-1]\n",
    "\n",
    "# Print the feature ranking\n",
    "print(\"Feature ranking:\")\n",
    "\n",
    "for f in range(X.shape[1]):\n",
    "    print(\"%d. feature %d (%f)\" % (f + 1, indices[f], importances[indices[f]]))\n",
    "\n",
    "# Plot the feature importances of the forest\n",
    "plt.figure()\n",
    "plt.title(\"Feature importances\")\n",
    "plt.bar(range(X.shape[1]), importances[indices],\n",
    "       color=\"r\", yerr=std[indices], align=\"center\")\n",
    "plt.xticks(range(X.shape[1]), indices)\n",
    "plt.xlim([-1, X.shape[1]])\n",
    "plt.show()"
   ]
  },
  {
   "cell_type": "code",
   "execution_count": 3,
   "metadata": {
    "collapsed": true
   },
   "outputs": [],
   "source": [
    "from sklearn.model_selection import train_test_split\n",
    "X_train, X_test, y_train, y_test = train_test_split(X,y,random_state=1)"
   ]
  },
  {
   "cell_type": "code",
   "execution_count": 4,
   "metadata": {
    "collapsed": false
   },
   "outputs": [
    {
     "name": "stderr",
     "output_type": "stream",
     "text": [
      "[Parallel(n_jobs=6)]: Done   2 out of   6 | elapsed:    0.8s remaining:    1.7s\n",
      "[Parallel(n_jobs=6)]: Done   6 out of   6 | elapsed:    1.6s finished\n",
      "D:\\Anaconda\\lib\\site-packages\\sklearn\\ensemble\\bagging.py:605: UserWarning: Some inputs do not have OOB scores. This probably means too few estimators were used to compute any reliable oob estimates.\n",
      "  warn(\"Some inputs do not have OOB scores. \"\n",
      "D:\\Anaconda\\lib\\site-packages\\sklearn\\ensemble\\bagging.py:610: RuntimeWarning: invalid value encountered in true_divide\n",
      "  predictions.sum(axis=1)[:, np.newaxis])\n",
      "[Parallel(n_jobs=6)]: Done   2 out of   6 | elapsed:    0.9s remaining:    1.9s\n",
      "[Parallel(n_jobs=6)]: Done   6 out of   6 | elapsed:    2.0s finished\n",
      "[Parallel(n_jobs=6)]: Done   2 out of   6 | elapsed:    0.8s remaining:    1.7s\n",
      "[Parallel(n_jobs=6)]: Done   6 out of   6 | elapsed:    1.9s finished\n",
      "[Parallel(n_jobs=6)]: Done   2 out of   6 | elapsed:    0.9s remaining:    1.9s\n",
      "[Parallel(n_jobs=6)]: Done   6 out of   6 | elapsed:    1.7s finished\n",
      "[Parallel(n_jobs=6)]: Done   2 out of   6 | elapsed:    0.7s remaining:    1.6s\n",
      "[Parallel(n_jobs=6)]: Done   6 out of   6 | elapsed:    1.5s finished\n",
      "[Parallel(n_jobs=6)]: Done   2 out of   6 | elapsed:    1.1s remaining:    2.2s\n",
      "[Parallel(n_jobs=6)]: Done   6 out of   6 | elapsed:    1.8s finished\n"
     ]
    }
   ],
   "source": [
    "# Create the model and fit the data\n",
    "from sklearn.ensemble import BaggingClassifier\n",
    "\n",
    "n_estimators = [10,20,50,80,100,200]\n",
    "oob_errors = []\n",
    "\n",
    "\n",
    "for n in n_estimators:\n",
    "    bag_cls = BaggingClassifier(base_estimator=None, n_estimators=n,\n",
    "                     max_samples=1.0, max_features=1.0, bootstrap=True,\n",
    "                     bootstrap_features=False, oob_score=True, \n",
    "                     warm_start=False, n_jobs=6, random_state=1, verbose=1)\n",
    "    bag_cls.fit(X_train,y_train)\n",
    "    #y_pred = bag_reg.predict(X_test)\n",
    "    oob_errors.append(bag_cls.oob_score_)\n",
    "    "
   ]
  },
  {
   "cell_type": "code",
   "execution_count": 5,
   "metadata": {
    "collapsed": false
   },
   "outputs": [
    {
     "name": "stdout",
     "output_type": "stream",
     "text": [
      "[0.92723004694835676, 0.93896713615023475, 0.9460093896713615, 0.94835680751173712, 0.94835680751173712, 0.95539906103286387]\n"
     ]
    }
   ],
   "source": [
    "print(oob_errors)\n"
   ]
  },
  {
   "cell_type": "code",
   "execution_count": 6,
   "metadata": {
    "collapsed": false
   },
   "outputs": [
    {
     "data": {
      "image/png": "[encoded data removed]",
      "text/plain": [
       "<matplotlib.figure.Figure at 0x262829f2e80>"
      ]
     },
     "metadata": {},
     "output_type": "display_data"
    }
   ],
   "source": [
    "# plot the results\n",
    "import matplotlib.pyplot as plt\n",
    "%matplotlib inline\n",
    "plt.plot(n_estimators,oob_errors)\n",
    "plt.xlabel(\"Number of estimators\")\n",
    "plt.ylabel(\"OOB Score\")\n",
    "plt.show()\n",
    "\n"
   ]
  },
  {
   "cell_type": "markdown",
   "metadata": {},
   "source": [
    "![Ensemble Learning](Bagging_classification.jpg)\n"
   ]
  },
  {
   "cell_type": "code",
   "execution_count": 7,
   "metadata": {
    "collapsed": true
   },
   "outputs": [],
   "source": [
    "# Majority Voting with different classfiers\n",
    "\n",
    "from sklearn.linear_model import LogisticRegression\n",
    "from sklearn.naive_bayes import GaussianNB\n",
    "from sklearn.neighbors import KNeighborsClassifier\n",
    "from sklearn.ensemble import VotingClassifier\n",
    "\n",
    "lgr = LogisticRegression(random_state = 1)\n",
    "gnb = GaussianNB()\n",
    "knn = KNeighborsClassifier(n_neighbors = 5)\n",
    "\n",
    "eclf1 = VotingClassifier(estimators=[('lr', lgr), ('gnb', gnb), ('knn', knn)], voting='hard')\n",
    "eclf2 = VotingClassifier(estimators=[('lr', lgr), ('gnb', gnb), ('knn', knn)], voting='soft')\n",
    "\n",
    "\n"
   ]
  },
  {
   "cell_type": "code",
   "execution_count": 8,
   "metadata": {
    "collapsed": false
   },
   "outputs": [
    {
     "data": {
      "text/plain": [
       "0.96485061511423553"
      ]
     },
     "execution_count": 8,
     "metadata": {},
     "output_type": "execute_result"
    }
   ],
   "source": [
    "eclf1.fit(X,y)\n",
    "eclf1.score(X,y)"
   ]
  },
  {
   "cell_type": "code",
   "execution_count": 9,
   "metadata": {
    "collapsed": false
   },
   "outputs": [
    {
     "data": {
      "text/plain": [
       "0.96660808435852374"
      ]
     },
     "execution_count": 9,
     "metadata": {},
     "output_type": "execute_result"
    }
   ],
   "source": [
    "eclf2.fit(X,y)\n",
    "eclf2.score(X,y)"
   ]
  }
 ],
 "metadata": {
  "kernelspec": {
   "display_name": "Python 3",
   "language": "python",
   "name": "python3"
  },
  "language_info": {
   "codemirror_mode": {
    "name": "ipython",
    "version": 3
   },
   "file_extension": ".py",
   "mimetype": "text/x-python",
   "name": "python",
   "nbconvert_exporter": "python",
   "pygments_lexer": "ipython3",
   "version": "3.6.0"
  }
 },
 "nbformat": 4,
 "nbformat_minor": 2
}
